{
 "cells": [
  {
   "cell_type": "code",
   "execution_count": 80,
   "id": "0c4e8c0f",
   "metadata": {
    "execution": {
     "iopub.execute_input": "2022-10-01T14:07:58.030716Z",
     "iopub.status.busy": "2022-10-01T14:07:58.029705Z",
     "iopub.status.idle": "2022-10-01T14:07:59.119792Z",
     "shell.execute_reply": "2022-10-01T14:07:59.118427Z"
    },
    "papermill": {
     "duration": 1.12404,
     "end_time": "2022-10-01T14:07:59.123537",
     "exception": false,
     "start_time": "2022-10-01T14:07:57.999497",
     "status": "completed"
    },
    "tags": []
   },
   "outputs": [],
   "source": [
    "import pandas as pd \n",
    "import numpy as np \n",
    "import seaborn as sns \n",
    "import matplotlib.pyplot as plt \n",
    "import category_encoders as ce\n",
    "\n",
    "\n",
    "%matplotlib inline \n",
    "\n",
    "from sklearn.metrics import confusion_matrix,roc_auc_score, roc_curve, f1_score, accuracy_score\n",
    "from sklearn.metrics import make_scorer, precision_score, precision_recall_curve, precision_recall_curve\n",
    "from sklearn.metrics import recall_score, roc_curve,auc\n",
    "\n",
    "\n",
    "import warnings\n",
    "warnings.filterwarnings('ignore')"
   ]
  },
  {
   "cell_type": "code",
   "execution_count": 81,
   "id": "b57d7eb7",
   "metadata": {
    "execution": {
     "iopub.execute_input": "2022-10-01T14:07:59.457187Z",
     "iopub.status.busy": "2022-10-01T14:07:59.456612Z",
     "iopub.status.idle": "2022-10-01T14:07:59.579074Z",
     "shell.execute_reply": "2022-10-01T14:07:59.577997Z"
    },
    "papermill": {
     "duration": 0.170161,
     "end_time": "2022-10-01T14:07:59.581874",
     "exception": false,
     "start_time": "2022-10-01T14:07:59.411713",
     "status": "completed"
    },
    "tags": []
   },
   "outputs": [
    {
     "data": {
      "text/html": [
       "<div>\n",
       "<style scoped>\n",
       "    .dataframe tbody tr th:only-of-type {\n",
       "        vertical-align: middle;\n",
       "    }\n",
       "\n",
       "    .dataframe tbody tr th {\n",
       "        vertical-align: top;\n",
       "    }\n",
       "\n",
       "    .dataframe thead th {\n",
       "        text-align: right;\n",
       "    }\n",
       "</style>\n",
       "<table border=\"1\" class=\"dataframe\">\n",
       "  <thead>\n",
       "    <tr style=\"text-align: right;\">\n",
       "      <th></th>\n",
       "      <th>Age</th>\n",
       "      <th>Sex</th>\n",
       "      <th>ChestPainType</th>\n",
       "      <th>RestingBP</th>\n",
       "      <th>Cholesterol</th>\n",
       "      <th>FastingBS</th>\n",
       "      <th>RestingECG</th>\n",
       "      <th>MaxHR</th>\n",
       "      <th>ExerciseAngina</th>\n",
       "      <th>Oldpeak</th>\n",
       "      <th>ST_Slope</th>\n",
       "      <th>HeartDisease</th>\n",
       "    </tr>\n",
       "  </thead>\n",
       "  <tbody>\n",
       "    <tr>\n",
       "      <th>0</th>\n",
       "      <td>40</td>\n",
       "      <td>M</td>\n",
       "      <td>ATA</td>\n",
       "      <td>140</td>\n",
       "      <td>289</td>\n",
       "      <td>0</td>\n",
       "      <td>Normal</td>\n",
       "      <td>172</td>\n",
       "      <td>N</td>\n",
       "      <td>0.0</td>\n",
       "      <td>Up</td>\n",
       "      <td>0</td>\n",
       "    </tr>\n",
       "    <tr>\n",
       "      <th>1</th>\n",
       "      <td>49</td>\n",
       "      <td>F</td>\n",
       "      <td>NAP</td>\n",
       "      <td>160</td>\n",
       "      <td>180</td>\n",
       "      <td>0</td>\n",
       "      <td>Normal</td>\n",
       "      <td>156</td>\n",
       "      <td>N</td>\n",
       "      <td>1.0</td>\n",
       "      <td>Flat</td>\n",
       "      <td>1</td>\n",
       "    </tr>\n",
       "    <tr>\n",
       "      <th>2</th>\n",
       "      <td>37</td>\n",
       "      <td>M</td>\n",
       "      <td>ATA</td>\n",
       "      <td>130</td>\n",
       "      <td>283</td>\n",
       "      <td>0</td>\n",
       "      <td>ST</td>\n",
       "      <td>98</td>\n",
       "      <td>N</td>\n",
       "      <td>0.0</td>\n",
       "      <td>Up</td>\n",
       "      <td>0</td>\n",
       "    </tr>\n",
       "    <tr>\n",
       "      <th>3</th>\n",
       "      <td>48</td>\n",
       "      <td>F</td>\n",
       "      <td>ASY</td>\n",
       "      <td>138</td>\n",
       "      <td>214</td>\n",
       "      <td>0</td>\n",
       "      <td>Normal</td>\n",
       "      <td>108</td>\n",
       "      <td>Y</td>\n",
       "      <td>1.5</td>\n",
       "      <td>Flat</td>\n",
       "      <td>1</td>\n",
       "    </tr>\n",
       "    <tr>\n",
       "      <th>4</th>\n",
       "      <td>54</td>\n",
       "      <td>M</td>\n",
       "      <td>NAP</td>\n",
       "      <td>150</td>\n",
       "      <td>195</td>\n",
       "      <td>0</td>\n",
       "      <td>Normal</td>\n",
       "      <td>122</td>\n",
       "      <td>N</td>\n",
       "      <td>0.0</td>\n",
       "      <td>Up</td>\n",
       "      <td>0</td>\n",
       "    </tr>\n",
       "  </tbody>\n",
       "</table>\n",
       "</div>"
      ],
      "text/plain": [
       "   Age Sex ChestPainType  RestingBP  Cholesterol  FastingBS RestingECG  MaxHR  \\\n",
       "0   40   M           ATA        140          289          0     Normal    172   \n",
       "1   49   F           NAP        160          180          0     Normal    156   \n",
       "2   37   M           ATA        130          283          0         ST     98   \n",
       "3   48   F           ASY        138          214          0     Normal    108   \n",
       "4   54   M           NAP        150          195          0     Normal    122   \n",
       "\n",
       "  ExerciseAngina  Oldpeak ST_Slope  HeartDisease  \n",
       "0              N      0.0       Up             0  \n",
       "1              N      1.0     Flat             1  \n",
       "2              N      0.0       Up             0  \n",
       "3              Y      1.5     Flat             1  \n",
       "4              N      0.0       Up             0  "
      ]
     },
     "execution_count": 81,
     "metadata": {},
     "output_type": "execute_result"
    }
   ],
   "source": [
    "heart_disease_prediction = pd.read_csv('./heart.csv')\n",
    "heart_disease_prediction.head()"
   ]
  },
  {
   "cell_type": "code",
   "execution_count": 82,
   "id": "bb68ff7a",
   "metadata": {
    "execution": {
     "iopub.execute_input": "2022-10-01T14:07:59.738060Z",
     "iopub.status.busy": "2022-10-01T14:07:59.737702Z",
     "iopub.status.idle": "2022-10-01T14:07:59.745931Z",
     "shell.execute_reply": "2022-10-01T14:07:59.744860Z"
    },
    "papermill": {
     "duration": 0.040961,
     "end_time": "2022-10-01T14:07:59.748097",
     "exception": false,
     "start_time": "2022-10-01T14:07:59.707136",
     "status": "completed"
    },
    "tags": []
   },
   "outputs": [
    {
     "data": {
      "text/plain": [
       "(918, 12)"
      ]
     },
     "metadata": {},
     "output_type": "display_data"
    },
    {
     "data": {
      "text/plain": [
       "11016"
      ]
     },
     "metadata": {},
     "output_type": "display_data"
    }
   ],
   "source": [
    "display(heart_disease_prediction.shape)\n",
    "display(heart_disease_prediction.size)"
   ]
  },
  {
   "cell_type": "code",
   "execution_count": 83,
   "id": "783485b1",
   "metadata": {
    "execution": {
     "iopub.execute_input": "2022-10-01T14:07:59.810572Z",
     "iopub.status.busy": "2022-10-01T14:07:59.808567Z",
     "iopub.status.idle": "2022-10-01T14:07:59.828934Z",
     "shell.execute_reply": "2022-10-01T14:07:59.827919Z"
    },
    "papermill": {
     "duration": 0.054087,
     "end_time": "2022-10-01T14:07:59.831590",
     "exception": false,
     "start_time": "2022-10-01T14:07:59.777503",
     "status": "completed"
    },
    "tags": []
   },
   "outputs": [
    {
     "name": "stdout",
     "output_type": "stream",
     "text": [
      "<class 'pandas.core.frame.DataFrame'>\n",
      "RangeIndex: 918 entries, 0 to 917\n",
      "Data columns (total 12 columns):\n",
      " #   Column          Non-Null Count  Dtype  \n",
      "---  ------          --------------  -----  \n",
      " 0   Age             918 non-null    int64  \n",
      " 1   Sex             918 non-null    object \n",
      " 2   ChestPainType   918 non-null    object \n",
      " 3   RestingBP       918 non-null    int64  \n",
      " 4   Cholesterol     918 non-null    int64  \n",
      " 5   FastingBS       918 non-null    int64  \n",
      " 6   RestingECG      918 non-null    object \n",
      " 7   MaxHR           918 non-null    int64  \n",
      " 8   ExerciseAngina  918 non-null    object \n",
      " 9   Oldpeak         918 non-null    float64\n",
      " 10  ST_Slope        918 non-null    object \n",
      " 11  HeartDisease    918 non-null    int64  \n",
      "dtypes: float64(1), int64(6), object(5)\n",
      "memory usage: 86.2+ KB\n"
     ]
    }
   ],
   "source": [
    "heart_disease_prediction.info()"
   ]
  },
  {
   "cell_type": "code",
   "execution_count": 84,
   "id": "3b1d750f",
   "metadata": {
    "execution": {
     "iopub.execute_input": "2022-10-01T14:07:59.892496Z",
     "iopub.status.busy": "2022-10-01T14:07:59.892157Z",
     "iopub.status.idle": "2022-10-01T14:07:59.924449Z",
     "shell.execute_reply": "2022-10-01T14:07:59.923403Z"
    },
    "papermill": {
     "duration": 0.065334,
     "end_time": "2022-10-01T14:07:59.926977",
     "exception": false,
     "start_time": "2022-10-01T14:07:59.861643",
     "status": "completed"
    },
    "tags": []
   },
   "outputs": [
    {
     "data": {
      "text/html": [
       "<div>\n",
       "<style scoped>\n",
       "    .dataframe tbody tr th:only-of-type {\n",
       "        vertical-align: middle;\n",
       "    }\n",
       "\n",
       "    .dataframe tbody tr th {\n",
       "        vertical-align: top;\n",
       "    }\n",
       "\n",
       "    .dataframe thead th {\n",
       "        text-align: right;\n",
       "    }\n",
       "</style>\n",
       "<table border=\"1\" class=\"dataframe\">\n",
       "  <thead>\n",
       "    <tr style=\"text-align: right;\">\n",
       "      <th></th>\n",
       "      <th>Age</th>\n",
       "      <th>RestingBP</th>\n",
       "      <th>Cholesterol</th>\n",
       "      <th>FastingBS</th>\n",
       "      <th>MaxHR</th>\n",
       "      <th>Oldpeak</th>\n",
       "      <th>HeartDisease</th>\n",
       "    </tr>\n",
       "  </thead>\n",
       "  <tbody>\n",
       "    <tr>\n",
       "      <th>count</th>\n",
       "      <td>918.000000</td>\n",
       "      <td>918.000000</td>\n",
       "      <td>918.000000</td>\n",
       "      <td>918.000000</td>\n",
       "      <td>918.000000</td>\n",
       "      <td>918.000000</td>\n",
       "      <td>918.000000</td>\n",
       "    </tr>\n",
       "    <tr>\n",
       "      <th>mean</th>\n",
       "      <td>53.510893</td>\n",
       "      <td>132.396514</td>\n",
       "      <td>198.799564</td>\n",
       "      <td>0.233115</td>\n",
       "      <td>136.809368</td>\n",
       "      <td>0.887364</td>\n",
       "      <td>0.553377</td>\n",
       "    </tr>\n",
       "    <tr>\n",
       "      <th>std</th>\n",
       "      <td>9.432617</td>\n",
       "      <td>18.514154</td>\n",
       "      <td>109.384145</td>\n",
       "      <td>0.423046</td>\n",
       "      <td>25.460334</td>\n",
       "      <td>1.066570</td>\n",
       "      <td>0.497414</td>\n",
       "    </tr>\n",
       "    <tr>\n",
       "      <th>min</th>\n",
       "      <td>28.000000</td>\n",
       "      <td>0.000000</td>\n",
       "      <td>0.000000</td>\n",
       "      <td>0.000000</td>\n",
       "      <td>60.000000</td>\n",
       "      <td>-2.600000</td>\n",
       "      <td>0.000000</td>\n",
       "    </tr>\n",
       "    <tr>\n",
       "      <th>25%</th>\n",
       "      <td>47.000000</td>\n",
       "      <td>120.000000</td>\n",
       "      <td>173.250000</td>\n",
       "      <td>0.000000</td>\n",
       "      <td>120.000000</td>\n",
       "      <td>0.000000</td>\n",
       "      <td>0.000000</td>\n",
       "    </tr>\n",
       "    <tr>\n",
       "      <th>50%</th>\n",
       "      <td>54.000000</td>\n",
       "      <td>130.000000</td>\n",
       "      <td>223.000000</td>\n",
       "      <td>0.000000</td>\n",
       "      <td>138.000000</td>\n",
       "      <td>0.600000</td>\n",
       "      <td>1.000000</td>\n",
       "    </tr>\n",
       "    <tr>\n",
       "      <th>75%</th>\n",
       "      <td>60.000000</td>\n",
       "      <td>140.000000</td>\n",
       "      <td>267.000000</td>\n",
       "      <td>0.000000</td>\n",
       "      <td>156.000000</td>\n",
       "      <td>1.500000</td>\n",
       "      <td>1.000000</td>\n",
       "    </tr>\n",
       "    <tr>\n",
       "      <th>max</th>\n",
       "      <td>77.000000</td>\n",
       "      <td>200.000000</td>\n",
       "      <td>603.000000</td>\n",
       "      <td>1.000000</td>\n",
       "      <td>202.000000</td>\n",
       "      <td>6.200000</td>\n",
       "      <td>1.000000</td>\n",
       "    </tr>\n",
       "  </tbody>\n",
       "</table>\n",
       "</div>"
      ],
      "text/plain": [
       "              Age   RestingBP  Cholesterol   FastingBS       MaxHR  \\\n",
       "count  918.000000  918.000000   918.000000  918.000000  918.000000   \n",
       "mean    53.510893  132.396514   198.799564    0.233115  136.809368   \n",
       "std      9.432617   18.514154   109.384145    0.423046   25.460334   \n",
       "min     28.000000    0.000000     0.000000    0.000000   60.000000   \n",
       "25%     47.000000  120.000000   173.250000    0.000000  120.000000   \n",
       "50%     54.000000  130.000000   223.000000    0.000000  138.000000   \n",
       "75%     60.000000  140.000000   267.000000    0.000000  156.000000   \n",
       "max     77.000000  200.000000   603.000000    1.000000  202.000000   \n",
       "\n",
       "          Oldpeak  HeartDisease  \n",
       "count  918.000000    918.000000  \n",
       "mean     0.887364      0.553377  \n",
       "std      1.066570      0.497414  \n",
       "min     -2.600000      0.000000  \n",
       "25%      0.000000      0.000000  \n",
       "50%      0.600000      1.000000  \n",
       "75%      1.500000      1.000000  \n",
       "max      6.200000      1.000000  "
      ]
     },
     "execution_count": 84,
     "metadata": {},
     "output_type": "execute_result"
    }
   ],
   "source": [
    "heart_disease_prediction.describe()"
   ]
  },
  {
   "cell_type": "code",
   "execution_count": 85,
   "id": "7e1be0e0",
   "metadata": {
    "execution": {
     "iopub.execute_input": "2022-10-01T14:07:59.990694Z",
     "iopub.status.busy": "2022-10-01T14:07:59.989763Z",
     "iopub.status.idle": "2022-10-01T14:07:59.999238Z",
     "shell.execute_reply": "2022-10-01T14:07:59.998131Z"
    },
    "papermill": {
     "duration": 0.043279,
     "end_time": "2022-10-01T14:08:00.001291",
     "exception": false,
     "start_time": "2022-10-01T14:07:59.958012",
     "status": "completed"
    },
    "tags": []
   },
   "outputs": [
    {
     "data": {
      "text/plain": [
       "Age               0.0\n",
       "Sex               0.0\n",
       "ChestPainType     0.0\n",
       "RestingBP         0.0\n",
       "Cholesterol       0.0\n",
       "FastingBS         0.0\n",
       "RestingECG        0.0\n",
       "MaxHR             0.0\n",
       "ExerciseAngina    0.0\n",
       "Oldpeak           0.0\n",
       "ST_Slope          0.0\n",
       "HeartDisease      0.0\n",
       "dtype: float64"
      ]
     },
     "execution_count": 85,
     "metadata": {},
     "output_type": "execute_result"
    }
   ],
   "source": [
    "heart_disease_prediction.isnull().mean()*100"
   ]
  },
  {
   "cell_type": "code",
   "execution_count": 86,
   "id": "83317b92",
   "metadata": {
    "execution": {
     "iopub.execute_input": "2022-10-01T14:08:01.679630Z",
     "iopub.status.busy": "2022-10-01T14:08:01.679250Z",
     "iopub.status.idle": "2022-10-01T14:08:01.688793Z",
     "shell.execute_reply": "2022-10-01T14:08:01.687813Z"
    },
    "papermill": {
     "duration": 0.047097,
     "end_time": "2022-10-01T14:08:01.691438",
     "exception": false,
     "start_time": "2022-10-01T14:08:01.644341",
     "status": "completed"
    },
    "tags": []
   },
   "outputs": [
    {
     "name": "stdout",
     "output_type": "stream",
     "text": [
      "Probability of HeartDisease in Women: 26.0 %\n",
      "Probability of HeartDisease in Men  : 63.0 %\n"
     ]
    }
   ],
   "source": [
    "Women = heart_disease_prediction.loc[heart_disease_prediction['Sex'] == 'F'][\"HeartDisease\"]\n",
    "prob_women = (Women.sum()/len(Women)).round(2)*100\n",
    "print(\"Probability of HeartDisease in Women:\", prob_women,\"%\")\n",
    "\n",
    "Men = heart_disease_prediction.loc[heart_disease_prediction['Sex'] == 'M'][\"HeartDisease\"]\n",
    "prob_men = (Men.sum()/len(Men)).round(2)*100\n",
    "print(\"Probability of HeartDisease in Men  :\", prob_men,\"%\")"
   ]
  },
  {
   "cell_type": "code",
   "execution_count": 87,
   "id": "667484dc",
   "metadata": {
    "execution": {
     "iopub.execute_input": "2022-10-01T14:08:01.838764Z",
     "iopub.status.busy": "2022-10-01T14:08:01.838167Z",
     "iopub.status.idle": "2022-10-01T14:08:01.851131Z",
     "shell.execute_reply": "2022-10-01T14:08:01.850134Z"
    },
    "papermill": {
     "duration": 0.049951,
     "end_time": "2022-10-01T14:08:01.853282",
     "exception": false,
     "start_time": "2022-10-01T14:08:01.803331",
     "status": "completed"
    },
    "scrolled": false,
    "tags": []
   },
   "outputs": [
    {
     "data": {
      "text/html": [
       "<div>\n",
       "<style scoped>\n",
       "    .dataframe tbody tr th:only-of-type {\n",
       "        vertical-align: middle;\n",
       "    }\n",
       "\n",
       "    .dataframe tbody tr th {\n",
       "        vertical-align: top;\n",
       "    }\n",
       "\n",
       "    .dataframe thead th {\n",
       "        text-align: right;\n",
       "    }\n",
       "</style>\n",
       "<table border=\"1\" class=\"dataframe\">\n",
       "  <thead>\n",
       "    <tr style=\"text-align: right;\">\n",
       "      <th></th>\n",
       "      <th>HeartDisease</th>\n",
       "    </tr>\n",
       "  </thead>\n",
       "  <tbody>\n",
       "    <tr>\n",
       "      <th>Age</th>\n",
       "      <td>0.282039</td>\n",
       "    </tr>\n",
       "    <tr>\n",
       "      <th>RestingBP</th>\n",
       "      <td>0.107589</td>\n",
       "    </tr>\n",
       "    <tr>\n",
       "      <th>Cholesterol</th>\n",
       "      <td>0.232741</td>\n",
       "    </tr>\n",
       "    <tr>\n",
       "      <th>FastingBS</th>\n",
       "      <td>0.267291</td>\n",
       "    </tr>\n",
       "    <tr>\n",
       "      <th>MaxHR</th>\n",
       "      <td>0.400421</td>\n",
       "    </tr>\n",
       "    <tr>\n",
       "      <th>Oldpeak</th>\n",
       "      <td>0.403951</td>\n",
       "    </tr>\n",
       "    <tr>\n",
       "      <th>HeartDisease</th>\n",
       "      <td>1.000000</td>\n",
       "    </tr>\n",
       "  </tbody>\n",
       "</table>\n",
       "</div>"
      ],
      "text/plain": [
       "              HeartDisease\n",
       "Age               0.282039\n",
       "RestingBP         0.107589\n",
       "Cholesterol       0.232741\n",
       "FastingBS         0.267291\n",
       "MaxHR             0.400421\n",
       "Oldpeak           0.403951\n",
       "HeartDisease      1.000000"
      ]
     },
     "execution_count": 87,
     "metadata": {},
     "output_type": "execute_result"
    }
   ],
   "source": [
    "numeric_cols = heart_disease_prediction.select_dtypes(include=[np.number])\n",
    "x=pd.DataFrame(abs(numeric_cols.corr()['HeartDisease']))\n",
    "x\n"
   ]
  },
  {
   "cell_type": "code",
   "execution_count": 88,
   "id": "650da586",
   "metadata": {},
   "outputs": [
    {
     "data": {
      "text/plain": [
       "Text(0, 0.5, 'Variables')"
      ]
     },
     "execution_count": 88,
     "metadata": {},
     "output_type": "execute_result"
    },
    {
     "data": {
      "image/png": "[encoded data removed]",
      "text/plain": [
       "<Figure size 1000x600 with 1 Axes>"
      ]
     },
     "metadata": {},
     "output_type": "display_data"
    }
   ],
   "source": [
    "correlation_df = pd.DataFrame(x).reset_index()\n",
    "correlation_df.columns = ['Variable', 'Correlation']\n",
    "\n",
    "plt.figure(figsize=(10, 6))\n",
    "sns.barplot(x='Correlation', y='Variable', data=correlation_df)\n",
    "plt.title('Absolute Correlation with Heart Disease')\n",
    "plt.xlabel('Absolute Correlation')\n",
    "plt.ylabel('Variables')"
   ]
  },
  {
   "cell_type": "code",
   "execution_count": 89,
   "id": "b72a6cc2",
   "metadata": {
    "execution": {
     "iopub.execute_input": "2022-10-01T14:08:11.211674Z",
     "iopub.status.busy": "2022-10-01T14:08:11.211309Z",
     "iopub.status.idle": "2022-10-01T14:08:11.218675Z",
     "shell.execute_reply": "2022-10-01T14:08:11.217734Z"
    },
    "papermill": {
     "duration": 0.073866,
     "end_time": "2022-10-01T14:08:11.220619",
     "exception": false,
     "start_time": "2022-10-01T14:08:11.146753",
     "status": "completed"
    },
    "tags": []
   },
   "outputs": [
    {
     "data": {
      "text/plain": [
       "(172, 12)"
      ]
     },
     "execution_count": 89,
     "metadata": {},
     "output_type": "execute_result"
    }
   ],
   "source": [
    "\n",
    "Cholesterol = heart_disease_prediction[heart_disease_prediction['Cholesterol'] == 0]\n",
    "Cholesterol.shape"
   ]
  },
  {
   "cell_type": "code",
   "execution_count": 90,
   "id": "e4728978",
   "metadata": {
    "execution": {
     "iopub.execute_input": "2022-10-01T14:08:11.483141Z",
     "iopub.status.busy": "2022-10-01T14:08:11.482760Z",
     "iopub.status.idle": "2022-10-01T14:08:11.500798Z",
     "shell.execute_reply": "2022-10-01T14:08:11.499873Z"
    },
    "papermill": {
     "duration": 0.086868,
     "end_time": "2022-10-01T14:08:11.502798",
     "exception": false,
     "start_time": "2022-10-01T14:08:11.415930",
     "status": "completed"
    },
    "tags": []
   },
   "outputs": [
    {
     "data": {
      "text/html": [
       "<div>\n",
       "<style scoped>\n",
       "    .dataframe tbody tr th:only-of-type {\n",
       "        vertical-align: middle;\n",
       "    }\n",
       "\n",
       "    .dataframe tbody tr th {\n",
       "        vertical-align: top;\n",
       "    }\n",
       "\n",
       "    .dataframe thead th {\n",
       "        text-align: right;\n",
       "    }\n",
       "</style>\n",
       "<table border=\"1\" class=\"dataframe\">\n",
       "  <thead>\n",
       "    <tr style=\"text-align: right;\">\n",
       "      <th></th>\n",
       "      <th>Age</th>\n",
       "      <th>Sex</th>\n",
       "      <th>ChestPainType</th>\n",
       "      <th>RestingBP</th>\n",
       "      <th>Cholesterol</th>\n",
       "      <th>FastingBS</th>\n",
       "      <th>RestingECG</th>\n",
       "      <th>MaxHR</th>\n",
       "      <th>ExerciseAngina</th>\n",
       "      <th>Oldpeak</th>\n",
       "      <th>ST_Slope</th>\n",
       "      <th>HeartDisease</th>\n",
       "    </tr>\n",
       "  </thead>\n",
       "  <tbody>\n",
       "    <tr>\n",
       "      <th>0</th>\n",
       "      <td>40</td>\n",
       "      <td>M</td>\n",
       "      <td>ATA</td>\n",
       "      <td>140</td>\n",
       "      <td>289.0</td>\n",
       "      <td>0</td>\n",
       "      <td>Normal</td>\n",
       "      <td>172</td>\n",
       "      <td>N</td>\n",
       "      <td>0.0</td>\n",
       "      <td>Up</td>\n",
       "      <td>0</td>\n",
       "    </tr>\n",
       "    <tr>\n",
       "      <th>1</th>\n",
       "      <td>49</td>\n",
       "      <td>F</td>\n",
       "      <td>NAP</td>\n",
       "      <td>160</td>\n",
       "      <td>180.0</td>\n",
       "      <td>0</td>\n",
       "      <td>Normal</td>\n",
       "      <td>156</td>\n",
       "      <td>N</td>\n",
       "      <td>1.0</td>\n",
       "      <td>Flat</td>\n",
       "      <td>1</td>\n",
       "    </tr>\n",
       "    <tr>\n",
       "      <th>2</th>\n",
       "      <td>37</td>\n",
       "      <td>M</td>\n",
       "      <td>ATA</td>\n",
       "      <td>130</td>\n",
       "      <td>283.0</td>\n",
       "      <td>0</td>\n",
       "      <td>ST</td>\n",
       "      <td>98</td>\n",
       "      <td>N</td>\n",
       "      <td>0.0</td>\n",
       "      <td>Up</td>\n",
       "      <td>0</td>\n",
       "    </tr>\n",
       "    <tr>\n",
       "      <th>3</th>\n",
       "      <td>48</td>\n",
       "      <td>F</td>\n",
       "      <td>ASY</td>\n",
       "      <td>138</td>\n",
       "      <td>214.0</td>\n",
       "      <td>0</td>\n",
       "      <td>Normal</td>\n",
       "      <td>108</td>\n",
       "      <td>Y</td>\n",
       "      <td>1.5</td>\n",
       "      <td>Flat</td>\n",
       "      <td>1</td>\n",
       "    </tr>\n",
       "    <tr>\n",
       "      <th>4</th>\n",
       "      <td>54</td>\n",
       "      <td>M</td>\n",
       "      <td>NAP</td>\n",
       "      <td>150</td>\n",
       "      <td>195.0</td>\n",
       "      <td>0</td>\n",
       "      <td>Normal</td>\n",
       "      <td>122</td>\n",
       "      <td>N</td>\n",
       "      <td>0.0</td>\n",
       "      <td>Up</td>\n",
       "      <td>0</td>\n",
       "    </tr>\n",
       "    <tr>\n",
       "      <th>5</th>\n",
       "      <td>39</td>\n",
       "      <td>M</td>\n",
       "      <td>NAP</td>\n",
       "      <td>120</td>\n",
       "      <td>339.0</td>\n",
       "      <td>0</td>\n",
       "      <td>Normal</td>\n",
       "      <td>170</td>\n",
       "      <td>N</td>\n",
       "      <td>0.0</td>\n",
       "      <td>Up</td>\n",
       "      <td>0</td>\n",
       "    </tr>\n",
       "    <tr>\n",
       "      <th>6</th>\n",
       "      <td>45</td>\n",
       "      <td>F</td>\n",
       "      <td>ATA</td>\n",
       "      <td>130</td>\n",
       "      <td>237.0</td>\n",
       "      <td>0</td>\n",
       "      <td>Normal</td>\n",
       "      <td>170</td>\n",
       "      <td>N</td>\n",
       "      <td>0.0</td>\n",
       "      <td>Up</td>\n",
       "      <td>0</td>\n",
       "    </tr>\n",
       "    <tr>\n",
       "      <th>7</th>\n",
       "      <td>54</td>\n",
       "      <td>M</td>\n",
       "      <td>ATA</td>\n",
       "      <td>110</td>\n",
       "      <td>208.0</td>\n",
       "      <td>0</td>\n",
       "      <td>Normal</td>\n",
       "      <td>142</td>\n",
       "      <td>N</td>\n",
       "      <td>0.0</td>\n",
       "      <td>Up</td>\n",
       "      <td>0</td>\n",
       "    </tr>\n",
       "    <tr>\n",
       "      <th>8</th>\n",
       "      <td>37</td>\n",
       "      <td>M</td>\n",
       "      <td>ASY</td>\n",
       "      <td>140</td>\n",
       "      <td>207.0</td>\n",
       "      <td>0</td>\n",
       "      <td>Normal</td>\n",
       "      <td>130</td>\n",
       "      <td>Y</td>\n",
       "      <td>1.5</td>\n",
       "      <td>Flat</td>\n",
       "      <td>1</td>\n",
       "    </tr>\n",
       "    <tr>\n",
       "      <th>9</th>\n",
       "      <td>48</td>\n",
       "      <td>F</td>\n",
       "      <td>ATA</td>\n",
       "      <td>120</td>\n",
       "      <td>284.0</td>\n",
       "      <td>0</td>\n",
       "      <td>Normal</td>\n",
       "      <td>120</td>\n",
       "      <td>N</td>\n",
       "      <td>0.0</td>\n",
       "      <td>Up</td>\n",
       "      <td>0</td>\n",
       "    </tr>\n",
       "  </tbody>\n",
       "</table>\n",
       "</div>"
      ],
      "text/plain": [
       "   Age Sex ChestPainType  RestingBP  Cholesterol  FastingBS RestingECG  MaxHR  \\\n",
       "0   40   M           ATA        140        289.0          0     Normal    172   \n",
       "1   49   F           NAP        160        180.0          0     Normal    156   \n",
       "2   37   M           ATA        130        283.0          0         ST     98   \n",
       "3   48   F           ASY        138        214.0          0     Normal    108   \n",
       "4   54   M           NAP        150        195.0          0     Normal    122   \n",
       "5   39   M           NAP        120        339.0          0     Normal    170   \n",
       "6   45   F           ATA        130        237.0          0     Normal    170   \n",
       "7   54   M           ATA        110        208.0          0     Normal    142   \n",
       "8   37   M           ASY        140        207.0          0     Normal    130   \n",
       "9   48   F           ATA        120        284.0          0     Normal    120   \n",
       "\n",
       "  ExerciseAngina  Oldpeak ST_Slope  HeartDisease  \n",
       "0              N      0.0       Up             0  \n",
       "1              N      1.0     Flat             1  \n",
       "2              N      0.0       Up             0  \n",
       "3              Y      1.5     Flat             1  \n",
       "4              N      0.0       Up             0  \n",
       "5              N      0.0       Up             0  \n",
       "6              N      0.0       Up             0  \n",
       "7              N      0.0       Up             0  \n",
       "8              Y      1.5     Flat             1  \n",
       "9              N      0.0       Up             0  "
      ]
     },
     "execution_count": 90,
     "metadata": {},
     "output_type": "execute_result"
    }
   ],
   "source": [
    "\n",
    "heart_disease_prediction.loc[heart_disease_prediction['Cholesterol'] == 0,'Cholesterol'] = np.nan\n",
    "heart_disease_prediction.head(10)"
   ]
  },
  {
   "cell_type": "code",
   "execution_count": 91,
   "id": "75d6d2f1",
   "metadata": {
    "execution": {
     "iopub.execute_input": "2022-10-01T14:08:11.634338Z",
     "iopub.status.busy": "2022-10-01T14:08:11.632516Z",
     "iopub.status.idle": "2022-10-01T14:08:11.639575Z",
     "shell.execute_reply": "2022-10-01T14:08:11.638655Z"
    },
    "papermill": {
     "duration": 0.073572,
     "end_time": "2022-10-01T14:08:11.641627",
     "exception": false,
     "start_time": "2022-10-01T14:08:11.568055",
     "status": "completed"
    },
    "tags": []
   },
   "outputs": [],
   "source": [
    "\n",
    "heart_disease_prediction[\"Cholesterol\"] = heart_disease_prediction[\"Cholesterol\"].fillna(heart_disease_prediction[\"Cholesterol\"].median())"
   ]
  },
  {
   "cell_type": "code",
   "execution_count": 92,
   "id": "5969e519",
   "metadata": {
    "execution": {
     "iopub.execute_input": "2022-10-01T14:08:11.891613Z",
     "iopub.status.busy": "2022-10-01T14:08:11.890952Z",
     "iopub.status.idle": "2022-10-01T14:08:11.902787Z",
     "shell.execute_reply": "2022-10-01T14:08:11.901871Z"
    },
    "papermill": {
     "duration": 0.077599,
     "end_time": "2022-10-01T14:08:11.904930",
     "exception": false,
     "start_time": "2022-10-01T14:08:11.827331",
     "status": "completed"
    },
    "tags": []
   },
   "outputs": [
    {
     "data": {
      "text/html": [
       "<div>\n",
       "<style scoped>\n",
       "    .dataframe tbody tr th:only-of-type {\n",
       "        vertical-align: middle;\n",
       "    }\n",
       "\n",
       "    .dataframe tbody tr th {\n",
       "        vertical-align: top;\n",
       "    }\n",
       "\n",
       "    .dataframe thead th {\n",
       "        text-align: right;\n",
       "    }\n",
       "</style>\n",
       "<table border=\"1\" class=\"dataframe\">\n",
       "  <thead>\n",
       "    <tr style=\"text-align: right;\">\n",
       "      <th></th>\n",
       "      <th>Age</th>\n",
       "      <th>Sex</th>\n",
       "      <th>ChestPainType</th>\n",
       "      <th>RestingBP</th>\n",
       "      <th>Cholesterol</th>\n",
       "      <th>FastingBS</th>\n",
       "      <th>RestingECG</th>\n",
       "      <th>MaxHR</th>\n",
       "      <th>ExerciseAngina</th>\n",
       "      <th>Oldpeak</th>\n",
       "      <th>ST_Slope</th>\n",
       "      <th>HeartDisease</th>\n",
       "    </tr>\n",
       "  </thead>\n",
       "  <tbody>\n",
       "    <tr>\n",
       "      <th>449</th>\n",
       "      <td>55</td>\n",
       "      <td>M</td>\n",
       "      <td>NAP</td>\n",
       "      <td>0</td>\n",
       "      <td>237.0</td>\n",
       "      <td>0</td>\n",
       "      <td>Normal</td>\n",
       "      <td>155</td>\n",
       "      <td>N</td>\n",
       "      <td>1.5</td>\n",
       "      <td>Flat</td>\n",
       "      <td>1</td>\n",
       "    </tr>\n",
       "  </tbody>\n",
       "</table>\n",
       "</div>"
      ],
      "text/plain": [
       "     Age Sex ChestPainType  RestingBP  Cholesterol  FastingBS RestingECG  \\\n",
       "449   55   M           NAP          0        237.0          0     Normal   \n",
       "\n",
       "     MaxHR ExerciseAngina  Oldpeak ST_Slope  HeartDisease  \n",
       "449    155              N      1.5     Flat             1  "
      ]
     },
     "execution_count": 92,
     "metadata": {},
     "output_type": "execute_result"
    }
   ],
   "source": [
    "\n",
    "RestingBP = heart_disease_prediction[heart_disease_prediction['RestingBP'] == 0]\n",
    "RestingBP"
   ]
  },
  {
   "cell_type": "code",
   "execution_count": 93,
   "id": "813349d9",
   "metadata": {
    "execution": {
     "iopub.execute_input": "2022-10-01T14:08:12.162742Z",
     "iopub.status.busy": "2022-10-01T14:08:12.162382Z",
     "iopub.status.idle": "2022-10-01T14:08:12.169938Z",
     "shell.execute_reply": "2022-10-01T14:08:12.169094Z"
    },
    "papermill": {
     "duration": 0.076319,
     "end_time": "2022-10-01T14:08:12.172150",
     "exception": false,
     "start_time": "2022-10-01T14:08:12.095831",
     "status": "completed"
    },
    "tags": []
   },
   "outputs": [],
   "source": [
    "heart_disease_prediction = heart_disease_prediction.drop(heart_disease_prediction[(heart_disease_prediction['RestingBP'] == 0)].index)    "
   ]
  },
  {
   "cell_type": "code",
   "execution_count": 94,
   "id": "9d56716e",
   "metadata": {
    "execution": {
     "iopub.execute_input": "2022-10-01T14:08:13.127094Z",
     "iopub.status.busy": "2022-10-01T14:08:13.126591Z",
     "iopub.status.idle": "2022-10-01T14:08:13.145374Z",
     "shell.execute_reply": "2022-10-01T14:08:13.144284Z"
    },
    "papermill": {
     "duration": 0.092414,
     "end_time": "2022-10-01T14:08:13.147524",
     "exception": false,
     "start_time": "2022-10-01T14:08:13.055110",
     "status": "completed"
    },
    "tags": []
   },
   "outputs": [
    {
     "data": {
      "text/html": [
       "<div>\n",
       "<style scoped>\n",
       "    .dataframe tbody tr th:only-of-type {\n",
       "        vertical-align: middle;\n",
       "    }\n",
       "\n",
       "    .dataframe tbody tr th {\n",
       "        vertical-align: top;\n",
       "    }\n",
       "\n",
       "    .dataframe thead th {\n",
       "        text-align: right;\n",
       "    }\n",
       "</style>\n",
       "<table border=\"1\" class=\"dataframe\">\n",
       "  <thead>\n",
       "    <tr style=\"text-align: right;\">\n",
       "      <th></th>\n",
       "      <th>Age</th>\n",
       "      <th>Sex</th>\n",
       "      <th>ChestPainType</th>\n",
       "      <th>RestingBP</th>\n",
       "      <th>Cholesterol</th>\n",
       "      <th>FastingBS</th>\n",
       "      <th>RestingECG</th>\n",
       "      <th>MaxHR</th>\n",
       "      <th>ExerciseAngina</th>\n",
       "      <th>Oldpeak</th>\n",
       "      <th>ST_Slope</th>\n",
       "      <th>HeartDisease</th>\n",
       "    </tr>\n",
       "  </thead>\n",
       "  <tbody>\n",
       "    <tr>\n",
       "      <th>845</th>\n",
       "      <td>61</td>\n",
       "      <td>F</td>\n",
       "      <td>ASY</td>\n",
       "      <td>145</td>\n",
       "      <td>307.0</td>\n",
       "      <td>0</td>\n",
       "      <td>LVH</td>\n",
       "      <td>146</td>\n",
       "      <td>Y</td>\n",
       "      <td>1.0</td>\n",
       "      <td>Flat</td>\n",
       "      <td>1</td>\n",
       "    </tr>\n",
       "    <tr>\n",
       "      <th>363</th>\n",
       "      <td>56</td>\n",
       "      <td>M</td>\n",
       "      <td>ASY</td>\n",
       "      <td>120</td>\n",
       "      <td>237.0</td>\n",
       "      <td>0</td>\n",
       "      <td>ST</td>\n",
       "      <td>148</td>\n",
       "      <td>N</td>\n",
       "      <td>0.0</td>\n",
       "      <td>Flat</td>\n",
       "      <td>1</td>\n",
       "    </tr>\n",
       "    <tr>\n",
       "      <th>615</th>\n",
       "      <td>70</td>\n",
       "      <td>M</td>\n",
       "      <td>ASY</td>\n",
       "      <td>130</td>\n",
       "      <td>322.0</td>\n",
       "      <td>0</td>\n",
       "      <td>LVH</td>\n",
       "      <td>109</td>\n",
       "      <td>N</td>\n",
       "      <td>2.4</td>\n",
       "      <td>Flat</td>\n",
       "      <td>1</td>\n",
       "    </tr>\n",
       "    <tr>\n",
       "      <th>160</th>\n",
       "      <td>59</td>\n",
       "      <td>M</td>\n",
       "      <td>ASY</td>\n",
       "      <td>140</td>\n",
       "      <td>264.0</td>\n",
       "      <td>1</td>\n",
       "      <td>LVH</td>\n",
       "      <td>119</td>\n",
       "      <td>Y</td>\n",
       "      <td>0.0</td>\n",
       "      <td>Flat</td>\n",
       "      <td>1</td>\n",
       "    </tr>\n",
       "    <tr>\n",
       "      <th>490</th>\n",
       "      <td>72</td>\n",
       "      <td>M</td>\n",
       "      <td>NAP</td>\n",
       "      <td>120</td>\n",
       "      <td>214.0</td>\n",
       "      <td>0</td>\n",
       "      <td>Normal</td>\n",
       "      <td>102</td>\n",
       "      <td>Y</td>\n",
       "      <td>1.0</td>\n",
       "      <td>Flat</td>\n",
       "      <td>1</td>\n",
       "    </tr>\n",
       "  </tbody>\n",
       "</table>\n",
       "</div>"
      ],
      "text/plain": [
       "     Age Sex ChestPainType  RestingBP  Cholesterol  FastingBS RestingECG  \\\n",
       "845   61   F           ASY        145        307.0          0        LVH   \n",
       "363   56   M           ASY        120        237.0          0         ST   \n",
       "615   70   M           ASY        130        322.0          0        LVH   \n",
       "160   59   M           ASY        140        264.0          1        LVH   \n",
       "490   72   M           NAP        120        214.0          0     Normal   \n",
       "\n",
       "     MaxHR ExerciseAngina  Oldpeak ST_Slope  HeartDisease  \n",
       "845    146              Y      1.0     Flat             1  \n",
       "363    148              N      0.0     Flat             1  \n",
       "615    109              N      2.4     Flat             1  \n",
       "160    119              Y      0.0     Flat             1  \n",
       "490    102              Y      1.0     Flat             1  "
      ]
     },
     "execution_count": 94,
     "metadata": {},
     "output_type": "execute_result"
    }
   ],
   "source": [
    "\n",
    "heart_disease_prediction.sample(5)"
   ]
  },
  {
   "cell_type": "code",
   "execution_count": 95,
   "id": "e88b8b36",
   "metadata": {
    "execution": {
     "iopub.execute_input": "2022-10-01T14:08:13.567823Z",
     "iopub.status.busy": "2022-10-01T14:08:13.567489Z",
     "iopub.status.idle": "2022-10-01T14:08:13.590392Z",
     "shell.execute_reply": "2022-10-01T14:08:13.589282Z"
    },
    "papermill": {
     "duration": 0.089642,
     "end_time": "2022-10-01T14:08:13.592504",
     "exception": false,
     "start_time": "2022-10-01T14:08:13.502862",
     "status": "completed"
    },
    "tags": []
   },
   "outputs": [
    {
     "name": "stdout",
     "output_type": "stream",
     "text": [
      "RestingBP_Category\n",
      "Hypertension_Stage_2    327\n",
      "Normal_BP               292\n",
      "Hypertension_Stage_1    216\n",
      "Elevated_BP              82\n",
      "Name: count, dtype: int64\n"
     ]
    },
    {
     "data": {
      "text/html": [
       "<div>\n",
       "<style scoped>\n",
       "    .dataframe tbody tr th:only-of-type {\n",
       "        vertical-align: middle;\n",
       "    }\n",
       "\n",
       "    .dataframe tbody tr th {\n",
       "        vertical-align: top;\n",
       "    }\n",
       "\n",
       "    .dataframe thead th {\n",
       "        text-align: right;\n",
       "    }\n",
       "</style>\n",
       "<table border=\"1\" class=\"dataframe\">\n",
       "  <thead>\n",
       "    <tr style=\"text-align: right;\">\n",
       "      <th></th>\n",
       "      <th>Age</th>\n",
       "      <th>Sex</th>\n",
       "      <th>ChestPainType</th>\n",
       "      <th>RestingBP</th>\n",
       "      <th>Cholesterol</th>\n",
       "      <th>FastingBS</th>\n",
       "      <th>RestingECG</th>\n",
       "      <th>MaxHR</th>\n",
       "      <th>ExerciseAngina</th>\n",
       "      <th>Oldpeak</th>\n",
       "      <th>ST_Slope</th>\n",
       "      <th>HeartDisease</th>\n",
       "      <th>RestingBP_Category</th>\n",
       "    </tr>\n",
       "  </thead>\n",
       "  <tbody>\n",
       "    <tr>\n",
       "      <th>314</th>\n",
       "      <td>53</td>\n",
       "      <td>M</td>\n",
       "      <td>ASY</td>\n",
       "      <td>80</td>\n",
       "      <td>237.0</td>\n",
       "      <td>0</td>\n",
       "      <td>Normal</td>\n",
       "      <td>141</td>\n",
       "      <td>Y</td>\n",
       "      <td>2.0</td>\n",
       "      <td>Down</td>\n",
       "      <td>0</td>\n",
       "      <td>Normal_BP</td>\n",
       "    </tr>\n",
       "    <tr>\n",
       "      <th>111</th>\n",
       "      <td>57</td>\n",
       "      <td>M</td>\n",
       "      <td>ASY</td>\n",
       "      <td>150</td>\n",
       "      <td>255.0</td>\n",
       "      <td>0</td>\n",
       "      <td>Normal</td>\n",
       "      <td>92</td>\n",
       "      <td>Y</td>\n",
       "      <td>3.0</td>\n",
       "      <td>Flat</td>\n",
       "      <td>1</td>\n",
       "      <td>Hypertension_Stage_2</td>\n",
       "    </tr>\n",
       "    <tr>\n",
       "      <th>520</th>\n",
       "      <td>64</td>\n",
       "      <td>M</td>\n",
       "      <td>ASY</td>\n",
       "      <td>130</td>\n",
       "      <td>223.0</td>\n",
       "      <td>0</td>\n",
       "      <td>ST</td>\n",
       "      <td>128</td>\n",
       "      <td>N</td>\n",
       "      <td>0.5</td>\n",
       "      <td>Flat</td>\n",
       "      <td>0</td>\n",
       "      <td>Hypertension_Stage_1</td>\n",
       "    </tr>\n",
       "    <tr>\n",
       "      <th>405</th>\n",
       "      <td>35</td>\n",
       "      <td>M</td>\n",
       "      <td>ASY</td>\n",
       "      <td>120</td>\n",
       "      <td>237.0</td>\n",
       "      <td>1</td>\n",
       "      <td>Normal</td>\n",
       "      <td>130</td>\n",
       "      <td>Y</td>\n",
       "      <td>1.2</td>\n",
       "      <td>Flat</td>\n",
       "      <td>1</td>\n",
       "      <td>Normal_BP</td>\n",
       "    </tr>\n",
       "    <tr>\n",
       "      <th>304</th>\n",
       "      <td>51</td>\n",
       "      <td>M</td>\n",
       "      <td>ASY</td>\n",
       "      <td>95</td>\n",
       "      <td>237.0</td>\n",
       "      <td>1</td>\n",
       "      <td>Normal</td>\n",
       "      <td>126</td>\n",
       "      <td>N</td>\n",
       "      <td>2.2</td>\n",
       "      <td>Flat</td>\n",
       "      <td>1</td>\n",
       "      <td>Normal_BP</td>\n",
       "    </tr>\n",
       "  </tbody>\n",
       "</table>\n",
       "</div>"
      ],
      "text/plain": [
       "     Age Sex ChestPainType  RestingBP  Cholesterol  FastingBS RestingECG  \\\n",
       "314   53   M           ASY         80        237.0          0     Normal   \n",
       "111   57   M           ASY        150        255.0          0     Normal   \n",
       "520   64   M           ASY        130        223.0          0         ST   \n",
       "405   35   M           ASY        120        237.0          1     Normal   \n",
       "304   51   M           ASY         95        237.0          1     Normal   \n",
       "\n",
       "     MaxHR ExerciseAngina  Oldpeak ST_Slope  HeartDisease  \\\n",
       "314    141              Y      2.0     Down             0   \n",
       "111     92              Y      3.0     Flat             1   \n",
       "520    128              N      0.5     Flat             0   \n",
       "405    130              Y      1.2     Flat             1   \n",
       "304    126              N      2.2     Flat             1   \n",
       "\n",
       "       RestingBP_Category  \n",
       "314             Normal_BP  \n",
       "111  Hypertension_Stage_2  \n",
       "520  Hypertension_Stage_1  \n",
       "405             Normal_BP  \n",
       "304             Normal_BP  "
      ]
     },
     "execution_count": 95,
     "metadata": {},
     "output_type": "execute_result"
    }
   ],
   "source": [
    "def categorize_bp(bp):\n",
    "    if bp <= 120:\n",
    "        return \"Normal_BP\"\n",
    "    elif bp <= 129:\n",
    "        return \"Elevated_BP\"\n",
    "    elif bp <= 139:\n",
    "        return \"Hypertension_Stage_1\"\n",
    "    else:\n",
    "        return \"Hypertension_Stage_2\"\n",
    "\n",
    "\n",
    "heart_disease_prediction[\"RestingBP_Category\"] = heart_disease_prediction[\"RestingBP\"].apply(categorize_bp)\n",
    "print(heart_disease_prediction['RestingBP_Category'].value_counts())\n",
    "\n",
    "heart_disease_prediction.sample(5)"
   ]
  },
  {
   "cell_type": "code",
   "execution_count": 96,
   "id": "6aa7d17a",
   "metadata": {
    "execution": {
     "iopub.execute_input": "2022-10-01T14:08:13.726096Z",
     "iopub.status.busy": "2022-10-01T14:08:13.724989Z",
     "iopub.status.idle": "2022-10-01T14:08:13.731330Z",
     "shell.execute_reply": "2022-10-01T14:08:13.730398Z"
    },
    "papermill": {
     "duration": 0.075573,
     "end_time": "2022-10-01T14:08:13.733282",
     "exception": false,
     "start_time": "2022-10-01T14:08:13.657709",
     "status": "completed"
    },
    "tags": []
   },
   "outputs": [],
   "source": [
    "\n",
    "heart_disease_prediction['RestingBP_Category'] = heart_disease_prediction['RestingBP_Category'].astype(object)"
   ]
  },
  {
   "cell_type": "code",
   "execution_count": 97,
   "id": "d13fa03f",
   "metadata": {
    "execution": {
     "iopub.execute_input": "2022-10-01T14:08:14.126807Z",
     "iopub.status.busy": "2022-10-01T14:08:14.126492Z",
     "iopub.status.idle": "2022-10-01T14:08:14.151093Z",
     "shell.execute_reply": "2022-10-01T14:08:14.149228Z"
    },
    "papermill": {
     "duration": 0.092379,
     "end_time": "2022-10-01T14:08:14.153668",
     "exception": false,
     "start_time": "2022-10-01T14:08:14.061289",
     "status": "completed"
    },
    "tags": []
   },
   "outputs": [
    {
     "name": "stdout",
     "output_type": "stream",
     "text": [
      "Cholesterol_Category\n",
      "High          576\n",
      "Borderline    187\n",
      "Normal        150\n",
      "Undefined       4\n",
      "Name: count, dtype: int64\n"
     ]
    },
    {
     "data": {
      "text/html": [
       "<div>\n",
       "<style scoped>\n",
       "    .dataframe tbody tr th:only-of-type {\n",
       "        vertical-align: middle;\n",
       "    }\n",
       "\n",
       "    .dataframe tbody tr th {\n",
       "        vertical-align: top;\n",
       "    }\n",
       "\n",
       "    .dataframe thead th {\n",
       "        text-align: right;\n",
       "    }\n",
       "</style>\n",
       "<table border=\"1\" class=\"dataframe\">\n",
       "  <thead>\n",
       "    <tr style=\"text-align: right;\">\n",
       "      <th></th>\n",
       "      <th>Age</th>\n",
       "      <th>Sex</th>\n",
       "      <th>ChestPainType</th>\n",
       "      <th>RestingBP</th>\n",
       "      <th>Cholesterol</th>\n",
       "      <th>FastingBS</th>\n",
       "      <th>RestingECG</th>\n",
       "      <th>MaxHR</th>\n",
       "      <th>ExerciseAngina</th>\n",
       "      <th>Oldpeak</th>\n",
       "      <th>ST_Slope</th>\n",
       "      <th>HeartDisease</th>\n",
       "      <th>RestingBP_Category</th>\n",
       "      <th>Cholesterol_Category</th>\n",
       "    </tr>\n",
       "  </thead>\n",
       "  <tbody>\n",
       "    <tr>\n",
       "      <th>0</th>\n",
       "      <td>40</td>\n",
       "      <td>M</td>\n",
       "      <td>ATA</td>\n",
       "      <td>140</td>\n",
       "      <td>289.0</td>\n",
       "      <td>0</td>\n",
       "      <td>Normal</td>\n",
       "      <td>172</td>\n",
       "      <td>N</td>\n",
       "      <td>0.0</td>\n",
       "      <td>Up</td>\n",
       "      <td>0</td>\n",
       "      <td>Hypertension_Stage_2</td>\n",
       "      <td>High</td>\n",
       "    </tr>\n",
       "    <tr>\n",
       "      <th>1</th>\n",
       "      <td>49</td>\n",
       "      <td>F</td>\n",
       "      <td>NAP</td>\n",
       "      <td>160</td>\n",
       "      <td>180.0</td>\n",
       "      <td>0</td>\n",
       "      <td>Normal</td>\n",
       "      <td>156</td>\n",
       "      <td>N</td>\n",
       "      <td>1.0</td>\n",
       "      <td>Flat</td>\n",
       "      <td>1</td>\n",
       "      <td>Hypertension_Stage_2</td>\n",
       "      <td>Normal</td>\n",
       "    </tr>\n",
       "    <tr>\n",
       "      <th>2</th>\n",
       "      <td>37</td>\n",
       "      <td>M</td>\n",
       "      <td>ATA</td>\n",
       "      <td>130</td>\n",
       "      <td>283.0</td>\n",
       "      <td>0</td>\n",
       "      <td>ST</td>\n",
       "      <td>98</td>\n",
       "      <td>N</td>\n",
       "      <td>0.0</td>\n",
       "      <td>Up</td>\n",
       "      <td>0</td>\n",
       "      <td>Hypertension_Stage_1</td>\n",
       "      <td>High</td>\n",
       "    </tr>\n",
       "    <tr>\n",
       "      <th>3</th>\n",
       "      <td>48</td>\n",
       "      <td>F</td>\n",
       "      <td>ASY</td>\n",
       "      <td>138</td>\n",
       "      <td>214.0</td>\n",
       "      <td>0</td>\n",
       "      <td>Normal</td>\n",
       "      <td>108</td>\n",
       "      <td>Y</td>\n",
       "      <td>1.5</td>\n",
       "      <td>Flat</td>\n",
       "      <td>1</td>\n",
       "      <td>Hypertension_Stage_1</td>\n",
       "      <td>Borderline</td>\n",
       "    </tr>\n",
       "    <tr>\n",
       "      <th>4</th>\n",
       "      <td>54</td>\n",
       "      <td>M</td>\n",
       "      <td>NAP</td>\n",
       "      <td>150</td>\n",
       "      <td>195.0</td>\n",
       "      <td>0</td>\n",
       "      <td>Normal</td>\n",
       "      <td>122</td>\n",
       "      <td>N</td>\n",
       "      <td>0.0</td>\n",
       "      <td>Up</td>\n",
       "      <td>0</td>\n",
       "      <td>Hypertension_Stage_2</td>\n",
       "      <td>Normal</td>\n",
       "    </tr>\n",
       "  </tbody>\n",
       "</table>\n",
       "</div>"
      ],
      "text/plain": [
       "   Age Sex ChestPainType  RestingBP  Cholesterol  FastingBS RestingECG  MaxHR  \\\n",
       "0   40   M           ATA        140        289.0          0     Normal    172   \n",
       "1   49   F           NAP        160        180.0          0     Normal    156   \n",
       "2   37   M           ATA        130        283.0          0         ST     98   \n",
       "3   48   F           ASY        138        214.0          0     Normal    108   \n",
       "4   54   M           NAP        150        195.0          0     Normal    122   \n",
       "\n",
       "  ExerciseAngina  Oldpeak ST_Slope  HeartDisease    RestingBP_Category  \\\n",
       "0              N      0.0       Up             0  Hypertension_Stage_2   \n",
       "1              N      1.0     Flat             1  Hypertension_Stage_2   \n",
       "2              N      0.0       Up             0  Hypertension_Stage_1   \n",
       "3              Y      1.5     Flat             1  Hypertension_Stage_1   \n",
       "4              N      0.0       Up             0  Hypertension_Stage_2   \n",
       "\n",
       "  Cholesterol_Category  \n",
       "0                 High  \n",
       "1               Normal  \n",
       "2                 High  \n",
       "3           Borderline  \n",
       "4               Normal  "
      ]
     },
     "execution_count": 97,
     "metadata": {},
     "output_type": "execute_result"
    }
   ],
   "source": [
    "def categorize_cholesterol(cholesterol):\n",
    "    if 0 < cholesterol <= 200:\n",
    "        return \"Normal\"\n",
    "    elif 200 < cholesterol <= 230:\n",
    "        return \"Borderline\"\n",
    "    elif 230 < cholesterol <= 500:\n",
    "        return \"High\"\n",
    "    else:\n",
    "        return \"Undefined\"  \n",
    "\n",
    "\n",
    "heart_disease_prediction[\"Cholesterol_Category\"] = heart_disease_prediction[\"Cholesterol\"].apply(categorize_cholesterol)\n",
    "print( heart_disease_prediction['Cholesterol_Category'].value_counts())\n",
    "heart_disease_prediction.head()"
   ]
  },
  {
   "cell_type": "code",
   "execution_count": 98,
   "id": "cbe182e9",
   "metadata": {
    "execution": {
     "iopub.execute_input": "2022-10-01T14:08:14.434617Z",
     "iopub.status.busy": "2022-10-01T14:08:14.434250Z",
     "iopub.status.idle": "2022-10-01T14:08:14.439885Z",
     "shell.execute_reply": "2022-10-01T14:08:14.438908Z"
    },
    "papermill": {
     "duration": 0.076321,
     "end_time": "2022-10-01T14:08:14.441918",
     "exception": false,
     "start_time": "2022-10-01T14:08:14.365597",
     "status": "completed"
    },
    "tags": []
   },
   "outputs": [],
   "source": [
    "\n",
    "heart_disease_prediction['Cholesterol_Category'] = heart_disease_prediction['Cholesterol_Category'].astype(object)"
   ]
  },
  {
   "cell_type": "code",
   "execution_count": 99,
   "id": "a9cdfaaa",
   "metadata": {},
   "outputs": [
    {
     "data": {
      "text/plain": [
       "Age                       int64\n",
       "Sex                      object\n",
       "ChestPainType            object\n",
       "RestingBP                 int64\n",
       "Cholesterol             float64\n",
       "FastingBS                 int64\n",
       "RestingECG               object\n",
       "MaxHR                     int64\n",
       "ExerciseAngina           object\n",
       "Oldpeak                 float64\n",
       "ST_Slope                 object\n",
       "HeartDisease              int64\n",
       "RestingBP_Category       object\n",
       "Cholesterol_Category     object\n",
       "dtype: object"
      ]
     },
     "execution_count": 99,
     "metadata": {},
     "output_type": "execute_result"
    }
   ],
   "source": [
    "heart_disease_prediction.dtypes"
   ]
  },
  {
   "cell_type": "code",
   "execution_count": 100,
   "id": "a7e581d5",
   "metadata": {
    "execution": {
     "iopub.execute_input": "2022-10-01T14:08:14.867188Z",
     "iopub.status.busy": "2022-10-01T14:08:14.866809Z",
     "iopub.status.idle": "2022-10-01T14:08:14.877442Z",
     "shell.execute_reply": "2022-10-01T14:08:14.875849Z"
    },
    "papermill": {
     "duration": 0.080863,
     "end_time": "2022-10-01T14:08:14.879618",
     "exception": false,
     "start_time": "2022-10-01T14:08:14.798755",
     "status": "completed"
    },
    "tags": []
   },
   "outputs": [],
   "source": [
    "numerical = heart_disease_prediction.select_dtypes(include=['number']).columns\n",
    "categorical = heart_disease_prediction.select_dtypes(include=['object']).columns\n",
    "\n"
   ]
  },
  {
   "cell_type": "code",
   "execution_count": 101,
   "id": "3b853c36",
   "metadata": {
    "execution": {
     "iopub.execute_input": "2022-10-01T14:08:24.765584Z",
     "iopub.status.busy": "2022-10-01T14:08:24.764439Z",
     "iopub.status.idle": "2022-10-01T14:08:24.780367Z",
     "shell.execute_reply": "2022-10-01T14:08:24.779441Z"
    },
    "papermill": {
     "duration": 0.12192,
     "end_time": "2022-10-01T14:08:24.782410",
     "exception": false,
     "start_time": "2022-10-01T14:08:24.660490",
     "status": "completed"
    },
    "scrolled": true,
    "tags": []
   },
   "outputs": [
    {
     "data": {
      "text/html": [
       "<div>\n",
       "<style scoped>\n",
       "    .dataframe tbody tr th:only-of-type {\n",
       "        vertical-align: middle;\n",
       "    }\n",
       "\n",
       "    .dataframe tbody tr th {\n",
       "        vertical-align: top;\n",
       "    }\n",
       "\n",
       "    .dataframe thead th {\n",
       "        text-align: right;\n",
       "    }\n",
       "</style>\n",
       "<table border=\"1\" class=\"dataframe\">\n",
       "  <thead>\n",
       "    <tr style=\"text-align: right;\">\n",
       "      <th></th>\n",
       "      <th>Age</th>\n",
       "      <th>Sex</th>\n",
       "      <th>ChestPainType</th>\n",
       "      <th>FastingBS</th>\n",
       "      <th>RestingECG</th>\n",
       "      <th>MaxHR</th>\n",
       "      <th>ExerciseAngina</th>\n",
       "      <th>Oldpeak</th>\n",
       "      <th>ST_Slope</th>\n",
       "      <th>HeartDisease</th>\n",
       "      <th>RestingBP_Category</th>\n",
       "      <th>Cholesterol_Category</th>\n",
       "    </tr>\n",
       "  </thead>\n",
       "  <tbody>\n",
       "    <tr>\n",
       "      <th>0</th>\n",
       "      <td>40</td>\n",
       "      <td>M</td>\n",
       "      <td>ATA</td>\n",
       "      <td>0</td>\n",
       "      <td>Normal</td>\n",
       "      <td>172</td>\n",
       "      <td>N</td>\n",
       "      <td>0.0</td>\n",
       "      <td>Up</td>\n",
       "      <td>0</td>\n",
       "      <td>Hypertension_Stage_2</td>\n",
       "      <td>High</td>\n",
       "    </tr>\n",
       "    <tr>\n",
       "      <th>1</th>\n",
       "      <td>49</td>\n",
       "      <td>F</td>\n",
       "      <td>NAP</td>\n",
       "      <td>0</td>\n",
       "      <td>Normal</td>\n",
       "      <td>156</td>\n",
       "      <td>N</td>\n",
       "      <td>1.0</td>\n",
       "      <td>Flat</td>\n",
       "      <td>1</td>\n",
       "      <td>Hypertension_Stage_2</td>\n",
       "      <td>Normal</td>\n",
       "    </tr>\n",
       "    <tr>\n",
       "      <th>2</th>\n",
       "      <td>37</td>\n",
       "      <td>M</td>\n",
       "      <td>ATA</td>\n",
       "      <td>0</td>\n",
       "      <td>ST</td>\n",
       "      <td>98</td>\n",
       "      <td>N</td>\n",
       "      <td>0.0</td>\n",
       "      <td>Up</td>\n",
       "      <td>0</td>\n",
       "      <td>Hypertension_Stage_1</td>\n",
       "      <td>High</td>\n",
       "    </tr>\n",
       "    <tr>\n",
       "      <th>3</th>\n",
       "      <td>48</td>\n",
       "      <td>F</td>\n",
       "      <td>ASY</td>\n",
       "      <td>0</td>\n",
       "      <td>Normal</td>\n",
       "      <td>108</td>\n",
       "      <td>Y</td>\n",
       "      <td>1.5</td>\n",
       "      <td>Flat</td>\n",
       "      <td>1</td>\n",
       "      <td>Hypertension_Stage_1</td>\n",
       "      <td>Borderline</td>\n",
       "    </tr>\n",
       "    <tr>\n",
       "      <th>4</th>\n",
       "      <td>54</td>\n",
       "      <td>M</td>\n",
       "      <td>NAP</td>\n",
       "      <td>0</td>\n",
       "      <td>Normal</td>\n",
       "      <td>122</td>\n",
       "      <td>N</td>\n",
       "      <td>0.0</td>\n",
       "      <td>Up</td>\n",
       "      <td>0</td>\n",
       "      <td>Hypertension_Stage_2</td>\n",
       "      <td>Normal</td>\n",
       "    </tr>\n",
       "  </tbody>\n",
       "</table>\n",
       "</div>"
      ],
      "text/plain": [
       "   Age Sex ChestPainType  FastingBS RestingECG  MaxHR ExerciseAngina  Oldpeak  \\\n",
       "0   40   M           ATA          0     Normal    172              N      0.0   \n",
       "1   49   F           NAP          0     Normal    156              N      1.0   \n",
       "2   37   M           ATA          0         ST     98              N      0.0   \n",
       "3   48   F           ASY          0     Normal    108              Y      1.5   \n",
       "4   54   M           NAP          0     Normal    122              N      0.0   \n",
       "\n",
       "  ST_Slope  HeartDisease    RestingBP_Category Cholesterol_Category  \n",
       "0       Up             0  Hypertension_Stage_2                 High  \n",
       "1     Flat             1  Hypertension_Stage_2               Normal  \n",
       "2       Up             0  Hypertension_Stage_1                 High  \n",
       "3     Flat             1  Hypertension_Stage_1           Borderline  \n",
       "4       Up             0  Hypertension_Stage_2               Normal  "
      ]
     },
     "execution_count": 101,
     "metadata": {},
     "output_type": "execute_result"
    }
   ],
   "source": [
    "heart_final = heart_disease_prediction.drop(['RestingBP','Cholesterol',],axis=1)\n",
    "heart_final.head()"
   ]
  },
  {
   "cell_type": "code",
   "execution_count": 102,
   "id": "9d389ea1",
   "metadata": {
    "execution": {
     "iopub.execute_input": "2022-10-01T14:08:25.200237Z",
     "iopub.status.busy": "2022-10-01T14:08:25.199103Z",
     "iopub.status.idle": "2022-10-01T14:08:25.391233Z",
     "shell.execute_reply": "2022-10-01T14:08:25.390035Z"
    },
    "papermill": {
     "duration": 0.301618,
     "end_time": "2022-10-01T14:08:25.393351",
     "exception": false,
     "start_time": "2022-10-01T14:08:25.091733",
     "status": "completed"
    },
    "tags": []
   },
   "outputs": [
    {
     "data": {
      "text/html": [
       "<div>\n",
       "<style scoped>\n",
       "    .dataframe tbody tr th:only-of-type {\n",
       "        vertical-align: middle;\n",
       "    }\n",
       "\n",
       "    .dataframe tbody tr th {\n",
       "        vertical-align: top;\n",
       "    }\n",
       "\n",
       "    .dataframe thead th {\n",
       "        text-align: right;\n",
       "    }\n",
       "</style>\n",
       "<table border=\"1\" class=\"dataframe\">\n",
       "  <thead>\n",
       "    <tr style=\"text-align: right;\">\n",
       "      <th></th>\n",
       "      <th>Age</th>\n",
       "      <th>Sex</th>\n",
       "      <th>ChestPainType</th>\n",
       "      <th>FastingBS</th>\n",
       "      <th>RestingECG</th>\n",
       "      <th>MaxHR</th>\n",
       "      <th>ExerciseAngina</th>\n",
       "      <th>Oldpeak</th>\n",
       "      <th>ST_Slope</th>\n",
       "      <th>HeartDisease</th>\n",
       "      <th>RestingBP_Category</th>\n",
       "      <th>Cholesterol_Category</th>\n",
       "    </tr>\n",
       "  </thead>\n",
       "  <tbody>\n",
       "    <tr>\n",
       "      <th>0</th>\n",
       "      <td>40</td>\n",
       "      <td>M</td>\n",
       "      <td>1</td>\n",
       "      <td>0</td>\n",
       "      <td>1</td>\n",
       "      <td>172</td>\n",
       "      <td>N</td>\n",
       "      <td>0.0</td>\n",
       "      <td>1</td>\n",
       "      <td>0</td>\n",
       "      <td>1</td>\n",
       "      <td>1</td>\n",
       "    </tr>\n",
       "    <tr>\n",
       "      <th>1</th>\n",
       "      <td>49</td>\n",
       "      <td>F</td>\n",
       "      <td>2</td>\n",
       "      <td>0</td>\n",
       "      <td>1</td>\n",
       "      <td>156</td>\n",
       "      <td>N</td>\n",
       "      <td>1.0</td>\n",
       "      <td>2</td>\n",
       "      <td>1</td>\n",
       "      <td>1</td>\n",
       "      <td>2</td>\n",
       "    </tr>\n",
       "    <tr>\n",
       "      <th>2</th>\n",
       "      <td>37</td>\n",
       "      <td>M</td>\n",
       "      <td>1</td>\n",
       "      <td>0</td>\n",
       "      <td>2</td>\n",
       "      <td>98</td>\n",
       "      <td>N</td>\n",
       "      <td>0.0</td>\n",
       "      <td>1</td>\n",
       "      <td>0</td>\n",
       "      <td>2</td>\n",
       "      <td>1</td>\n",
       "    </tr>\n",
       "    <tr>\n",
       "      <th>3</th>\n",
       "      <td>48</td>\n",
       "      <td>F</td>\n",
       "      <td>3</td>\n",
       "      <td>0</td>\n",
       "      <td>1</td>\n",
       "      <td>108</td>\n",
       "      <td>Y</td>\n",
       "      <td>1.5</td>\n",
       "      <td>2</td>\n",
       "      <td>1</td>\n",
       "      <td>2</td>\n",
       "      <td>3</td>\n",
       "    </tr>\n",
       "    <tr>\n",
       "      <th>4</th>\n",
       "      <td>54</td>\n",
       "      <td>M</td>\n",
       "      <td>2</td>\n",
       "      <td>0</td>\n",
       "      <td>1</td>\n",
       "      <td>122</td>\n",
       "      <td>N</td>\n",
       "      <td>0.0</td>\n",
       "      <td>1</td>\n",
       "      <td>0</td>\n",
       "      <td>1</td>\n",
       "      <td>2</td>\n",
       "    </tr>\n",
       "  </tbody>\n",
       "</table>\n",
       "</div>"
      ],
      "text/plain": [
       "   Age Sex  ChestPainType  FastingBS  RestingECG  MaxHR ExerciseAngina  \\\n",
       "0   40   M              1          0           1    172              N   \n",
       "1   49   F              2          0           1    156              N   \n",
       "2   37   M              1          0           2     98              N   \n",
       "3   48   F              3          0           1    108              Y   \n",
       "4   54   M              2          0           1    122              N   \n",
       "\n",
       "   Oldpeak  ST_Slope  HeartDisease  RestingBP_Category  Cholesterol_Category  \n",
       "0      0.0         1             0                   1                     1  \n",
       "1      1.0         2             1                   1                     2  \n",
       "2      0.0         1             0                   2                     1  \n",
       "3      1.5         2             1                   2                     3  \n",
       "4      0.0         1             0                   1                     2  "
      ]
     },
     "execution_count": 102,
     "metadata": {},
     "output_type": "execute_result"
    }
   ],
   "source": [
    "encoder = ce.OrdinalEncoder(cols=['ChestPainType','RestingECG','ST_Slope','Cholesterol_Category','RestingBP_Category'])\n",
    "heart_final = encoder.fit_transform(heart_final)\n",
    "\n",
    "\n",
    "heart_final.head()"
   ]
  },
  {
   "cell_type": "code",
   "execution_count": 103,
   "id": "c16d76c7",
   "metadata": {
    "execution": {
     "iopub.execute_input": "2022-10-01T14:08:25.610134Z",
     "iopub.status.busy": "2022-10-01T14:08:25.609672Z",
     "iopub.status.idle": "2022-10-01T14:08:25.650052Z",
     "shell.execute_reply": "2022-10-01T14:08:25.649135Z"
    },
    "papermill": {
     "duration": 0.149783,
     "end_time": "2022-10-01T14:08:25.652218",
     "exception": false,
     "start_time": "2022-10-01T14:08:25.502435",
     "status": "completed"
    },
    "tags": []
   },
   "outputs": [
    {
     "data": {
      "text/html": [
       "<div>\n",
       "<style scoped>\n",
       "    .dataframe tbody tr th:only-of-type {\n",
       "        vertical-align: middle;\n",
       "    }\n",
       "\n",
       "    .dataframe tbody tr th {\n",
       "        vertical-align: top;\n",
       "    }\n",
       "\n",
       "    .dataframe thead th {\n",
       "        text-align: right;\n",
       "    }\n",
       "</style>\n",
       "<table border=\"1\" class=\"dataframe\">\n",
       "  <thead>\n",
       "    <tr style=\"text-align: right;\">\n",
       "      <th></th>\n",
       "      <th>Age</th>\n",
       "      <th>ChestPainType</th>\n",
       "      <th>FastingBS</th>\n",
       "      <th>RestingECG</th>\n",
       "      <th>MaxHR</th>\n",
       "      <th>Oldpeak</th>\n",
       "      <th>ST_Slope</th>\n",
       "      <th>HeartDisease</th>\n",
       "      <th>RestingBP_Category</th>\n",
       "      <th>Cholesterol_Category</th>\n",
       "      <th>Sex_M</th>\n",
       "      <th>ExerciseAngina_Y</th>\n",
       "    </tr>\n",
       "  </thead>\n",
       "  <tbody>\n",
       "    <tr>\n",
       "      <th>0</th>\n",
       "      <td>40</td>\n",
       "      <td>1</td>\n",
       "      <td>0</td>\n",
       "      <td>1</td>\n",
       "      <td>172</td>\n",
       "      <td>0.0</td>\n",
       "      <td>1</td>\n",
       "      <td>0</td>\n",
       "      <td>1</td>\n",
       "      <td>1</td>\n",
       "      <td>1</td>\n",
       "      <td>0</td>\n",
       "    </tr>\n",
       "    <tr>\n",
       "      <th>1</th>\n",
       "      <td>49</td>\n",
       "      <td>2</td>\n",
       "      <td>0</td>\n",
       "      <td>1</td>\n",
       "      <td>156</td>\n",
       "      <td>1.0</td>\n",
       "      <td>2</td>\n",
       "      <td>1</td>\n",
       "      <td>1</td>\n",
       "      <td>2</td>\n",
       "      <td>0</td>\n",
       "      <td>0</td>\n",
       "    </tr>\n",
       "    <tr>\n",
       "      <th>2</th>\n",
       "      <td>37</td>\n",
       "      <td>1</td>\n",
       "      <td>0</td>\n",
       "      <td>2</td>\n",
       "      <td>98</td>\n",
       "      <td>0.0</td>\n",
       "      <td>1</td>\n",
       "      <td>0</td>\n",
       "      <td>2</td>\n",
       "      <td>1</td>\n",
       "      <td>1</td>\n",
       "      <td>0</td>\n",
       "    </tr>\n",
       "    <tr>\n",
       "      <th>3</th>\n",
       "      <td>48</td>\n",
       "      <td>3</td>\n",
       "      <td>0</td>\n",
       "      <td>1</td>\n",
       "      <td>108</td>\n",
       "      <td>1.5</td>\n",
       "      <td>2</td>\n",
       "      <td>1</td>\n",
       "      <td>2</td>\n",
       "      <td>3</td>\n",
       "      <td>0</td>\n",
       "      <td>1</td>\n",
       "    </tr>\n",
       "    <tr>\n",
       "      <th>4</th>\n",
       "      <td>54</td>\n",
       "      <td>2</td>\n",
       "      <td>0</td>\n",
       "      <td>1</td>\n",
       "      <td>122</td>\n",
       "      <td>0.0</td>\n",
       "      <td>1</td>\n",
       "      <td>0</td>\n",
       "      <td>1</td>\n",
       "      <td>2</td>\n",
       "      <td>1</td>\n",
       "      <td>0</td>\n",
       "    </tr>\n",
       "  </tbody>\n",
       "</table>\n",
       "</div>"
      ],
      "text/plain": [
       "   Age  ChestPainType  FastingBS  RestingECG  MaxHR  Oldpeak  ST_Slope  \\\n",
       "0   40              1          0           1    172      0.0         1   \n",
       "1   49              2          0           1    156      1.0         2   \n",
       "2   37              1          0           2     98      0.0         1   \n",
       "3   48              3          0           1    108      1.5         2   \n",
       "4   54              2          0           1    122      0.0         1   \n",
       "\n",
       "   HeartDisease  RestingBP_Category  Cholesterol_Category  Sex_M  \\\n",
       "0             0                   1                     1      1   \n",
       "1             1                   1                     2      0   \n",
       "2             0                   2                     1      1   \n",
       "3             1                   2                     3      0   \n",
       "4             0                   1                     2      1   \n",
       "\n",
       "   ExerciseAngina_Y  \n",
       "0                 0  \n",
       "1                 0  \n",
       "2                 0  \n",
       "3                 1  \n",
       "4                 0  "
      ]
     },
     "execution_count": 103,
     "metadata": {},
     "output_type": "execute_result"
    }
   ],
   "source": [
    "columns_to_encode = ['Sex', 'ExerciseAngina']\n",
    "heart_final1 = pd.get_dummies(heart_final, columns=columns_to_encode, drop_first=True)\n",
    "for col in heart_final1:\n",
    "    if heart_final1[col].dtype == 'bool':\n",
    "        heart_final1[col] = heart_final1[col].astype(int)\n",
    "heart_final1.head()\n"
   ]
  },
  {
   "cell_type": "code",
   "execution_count": 104,
   "id": "03e049c3",
   "metadata": {
    "execution": {
     "iopub.execute_input": "2022-10-01T14:08:26.066927Z",
     "iopub.status.busy": "2022-10-01T14:08:26.065132Z",
     "iopub.status.idle": "2022-10-01T14:08:26.072405Z",
     "shell.execute_reply": "2022-10-01T14:08:26.071514Z"
    },
    "papermill": {
     "duration": 0.114788,
     "end_time": "2022-10-01T14:08:26.074507",
     "exception": false,
     "start_time": "2022-10-01T14:08:25.959719",
     "status": "completed"
    },
    "tags": []
   },
   "outputs": [],
   "source": [
    "X = heart_final1.drop('HeartDisease',axis=1) \n",
    "y = heart_final1['HeartDisease']\n"
   ]
  },
  {
   "cell_type": "code",
   "execution_count": 105,
   "id": "58dc4d6e",
   "metadata": {
    "execution": {
     "iopub.execute_input": "2022-10-01T14:08:26.287487Z",
     "iopub.status.busy": "2022-10-01T14:08:26.287120Z",
     "iopub.status.idle": "2022-10-01T14:08:26.302962Z",
     "shell.execute_reply": "2022-10-01T14:08:26.302120Z"
    },
    "papermill": {
     "duration": 0.126467,
     "end_time": "2022-10-01T14:08:26.304972",
     "exception": false,
     "start_time": "2022-10-01T14:08:26.178505",
     "status": "completed"
    },
    "tags": []
   },
   "outputs": [],
   "source": [
    "from sklearn.model_selection import train_test_split\n",
    "X_train,X_test,y_train,y_test = train_test_split(X,y,test_size=0.2,random_state=21)"
   ]
  },
  {
   "cell_type": "code",
   "execution_count": 106,
   "id": "488bffc2",
   "metadata": {
    "execution": {
     "iopub.execute_input": "2022-10-01T14:08:26.728015Z",
     "iopub.status.busy": "2022-10-01T14:08:26.727461Z",
     "iopub.status.idle": "2022-10-01T14:08:26.764734Z",
     "shell.execute_reply": "2022-10-01T14:08:26.763814Z"
    },
    "papermill": {
     "duration": 0.144366,
     "end_time": "2022-10-01T14:08:26.766802",
     "exception": false,
     "start_time": "2022-10-01T14:08:26.622436",
     "status": "completed"
    },
    "tags": []
   },
   "outputs": [
    {
     "data": {
      "text/html": [
       "<div>\n",
       "<style scoped>\n",
       "    .dataframe tbody tr th:only-of-type {\n",
       "        vertical-align: middle;\n",
       "    }\n",
       "\n",
       "    .dataframe tbody tr th {\n",
       "        vertical-align: top;\n",
       "    }\n",
       "\n",
       "    .dataframe thead th {\n",
       "        text-align: right;\n",
       "    }\n",
       "</style>\n",
       "<table border=\"1\" class=\"dataframe\">\n",
       "  <thead>\n",
       "    <tr style=\"text-align: right;\">\n",
       "      <th></th>\n",
       "      <th>Age</th>\n",
       "      <th>ChestPainType</th>\n",
       "      <th>FastingBS</th>\n",
       "      <th>RestingECG</th>\n",
       "      <th>MaxHR</th>\n",
       "      <th>Oldpeak</th>\n",
       "      <th>ST_Slope</th>\n",
       "      <th>RestingBP_Category</th>\n",
       "      <th>Cholesterol_Category</th>\n",
       "      <th>Sex_M</th>\n",
       "      <th>ExerciseAngina_Y</th>\n",
       "    </tr>\n",
       "  </thead>\n",
       "  <tbody>\n",
       "    <tr>\n",
       "      <th>0</th>\n",
       "      <td>0.530612</td>\n",
       "      <td>0.333333</td>\n",
       "      <td>0.0</td>\n",
       "      <td>0.0</td>\n",
       "      <td>0.436620</td>\n",
       "      <td>0.295455</td>\n",
       "      <td>0.0</td>\n",
       "      <td>0.000000</td>\n",
       "      <td>0.333333</td>\n",
       "      <td>1.0</td>\n",
       "      <td>0.0</td>\n",
       "    </tr>\n",
       "    <tr>\n",
       "      <th>1</th>\n",
       "      <td>0.530612</td>\n",
       "      <td>0.000000</td>\n",
       "      <td>0.0</td>\n",
       "      <td>0.5</td>\n",
       "      <td>0.563380</td>\n",
       "      <td>0.295455</td>\n",
       "      <td>0.0</td>\n",
       "      <td>0.000000</td>\n",
       "      <td>0.000000</td>\n",
       "      <td>0.0</td>\n",
       "      <td>0.0</td>\n",
       "    </tr>\n",
       "    <tr>\n",
       "      <th>2</th>\n",
       "      <td>0.551020</td>\n",
       "      <td>0.666667</td>\n",
       "      <td>0.0</td>\n",
       "      <td>0.0</td>\n",
       "      <td>0.507042</td>\n",
       "      <td>0.431818</td>\n",
       "      <td>0.5</td>\n",
       "      <td>0.333333</td>\n",
       "      <td>0.000000</td>\n",
       "      <td>1.0</td>\n",
       "      <td>1.0</td>\n",
       "    </tr>\n",
       "    <tr>\n",
       "      <th>3</th>\n",
       "      <td>0.306122</td>\n",
       "      <td>0.333333</td>\n",
       "      <td>0.0</td>\n",
       "      <td>0.0</td>\n",
       "      <td>0.809859</td>\n",
       "      <td>0.295455</td>\n",
       "      <td>0.0</td>\n",
       "      <td>0.000000</td>\n",
       "      <td>0.000000</td>\n",
       "      <td>0.0</td>\n",
       "      <td>0.0</td>\n",
       "    </tr>\n",
       "    <tr>\n",
       "      <th>4</th>\n",
       "      <td>0.448980</td>\n",
       "      <td>0.666667</td>\n",
       "      <td>0.0</td>\n",
       "      <td>0.5</td>\n",
       "      <td>0.563380</td>\n",
       "      <td>0.863636</td>\n",
       "      <td>0.5</td>\n",
       "      <td>0.000000</td>\n",
       "      <td>0.000000</td>\n",
       "      <td>1.0</td>\n",
       "      <td>1.0</td>\n",
       "    </tr>\n",
       "  </tbody>\n",
       "</table>\n",
       "</div>"
      ],
      "text/plain": [
       "        Age  ChestPainType  FastingBS  RestingECG     MaxHR   Oldpeak  \\\n",
       "0  0.530612       0.333333        0.0         0.0  0.436620  0.295455   \n",
       "1  0.530612       0.000000        0.0         0.5  0.563380  0.295455   \n",
       "2  0.551020       0.666667        0.0         0.0  0.507042  0.431818   \n",
       "3  0.306122       0.333333        0.0         0.0  0.809859  0.295455   \n",
       "4  0.448980       0.666667        0.0         0.5  0.563380  0.863636   \n",
       "\n",
       "   ST_Slope  RestingBP_Category  Cholesterol_Category  Sex_M  ExerciseAngina_Y  \n",
       "0       0.0            0.000000              0.333333    1.0               0.0  \n",
       "1       0.0            0.000000              0.000000    0.0               0.0  \n",
       "2       0.5            0.333333              0.000000    1.0               1.0  \n",
       "3       0.0            0.000000              0.000000    0.0               0.0  \n",
       "4       0.5            0.000000              0.000000    1.0               1.0  "
      ]
     },
     "metadata": {},
     "output_type": "display_data"
    },
    {
     "data": {
      "text/html": [
       "<div>\n",
       "<style scoped>\n",
       "    .dataframe tbody tr th:only-of-type {\n",
       "        vertical-align: middle;\n",
       "    }\n",
       "\n",
       "    .dataframe tbody tr th {\n",
       "        vertical-align: top;\n",
       "    }\n",
       "\n",
       "    .dataframe thead th {\n",
       "        text-align: right;\n",
       "    }\n",
       "</style>\n",
       "<table border=\"1\" class=\"dataframe\">\n",
       "  <thead>\n",
       "    <tr style=\"text-align: right;\">\n",
       "      <th></th>\n",
       "      <th>Age</th>\n",
       "      <th>ChestPainType</th>\n",
       "      <th>FastingBS</th>\n",
       "      <th>RestingECG</th>\n",
       "      <th>MaxHR</th>\n",
       "      <th>Oldpeak</th>\n",
       "      <th>ST_Slope</th>\n",
       "      <th>RestingBP_Category</th>\n",
       "      <th>Cholesterol_Category</th>\n",
       "      <th>Sex_M</th>\n",
       "      <th>ExerciseAngina_Y</th>\n",
       "    </tr>\n",
       "  </thead>\n",
       "  <tbody>\n",
       "    <tr>\n",
       "      <th>0</th>\n",
       "      <td>0.591837</td>\n",
       "      <td>1.000000</td>\n",
       "      <td>0.0</td>\n",
       "      <td>0.0</td>\n",
       "      <td>0.267606</td>\n",
       "      <td>0.409091</td>\n",
       "      <td>0.5</td>\n",
       "      <td>0.333333</td>\n",
       "      <td>0.000000</td>\n",
       "      <td>0.0</td>\n",
       "      <td>0.0</td>\n",
       "    </tr>\n",
       "    <tr>\n",
       "      <th>1</th>\n",
       "      <td>0.306122</td>\n",
       "      <td>0.666667</td>\n",
       "      <td>0.0</td>\n",
       "      <td>0.0</td>\n",
       "      <td>0.422535</td>\n",
       "      <td>0.409091</td>\n",
       "      <td>0.5</td>\n",
       "      <td>0.666667</td>\n",
       "      <td>0.333333</td>\n",
       "      <td>1.0</td>\n",
       "      <td>1.0</td>\n",
       "    </tr>\n",
       "    <tr>\n",
       "      <th>2</th>\n",
       "      <td>0.244898</td>\n",
       "      <td>0.666667</td>\n",
       "      <td>1.0</td>\n",
       "      <td>0.0</td>\n",
       "      <td>0.647887</td>\n",
       "      <td>0.409091</td>\n",
       "      <td>0.5</td>\n",
       "      <td>0.666667</td>\n",
       "      <td>0.000000</td>\n",
       "      <td>1.0</td>\n",
       "      <td>1.0</td>\n",
       "    </tr>\n",
       "    <tr>\n",
       "      <th>3</th>\n",
       "      <td>0.306122</td>\n",
       "      <td>0.666667</td>\n",
       "      <td>0.0</td>\n",
       "      <td>1.0</td>\n",
       "      <td>0.422535</td>\n",
       "      <td>0.579545</td>\n",
       "      <td>0.5</td>\n",
       "      <td>0.666667</td>\n",
       "      <td>0.333333</td>\n",
       "      <td>1.0</td>\n",
       "      <td>1.0</td>\n",
       "    </tr>\n",
       "    <tr>\n",
       "      <th>4</th>\n",
       "      <td>0.612245</td>\n",
       "      <td>0.000000</td>\n",
       "      <td>1.0</td>\n",
       "      <td>0.0</td>\n",
       "      <td>0.352113</td>\n",
       "      <td>0.522727</td>\n",
       "      <td>0.5</td>\n",
       "      <td>1.000000</td>\n",
       "      <td>0.000000</td>\n",
       "      <td>1.0</td>\n",
       "      <td>1.0</td>\n",
       "    </tr>\n",
       "  </tbody>\n",
       "</table>\n",
       "</div>"
      ],
      "text/plain": [
       "        Age  ChestPainType  FastingBS  RestingECG     MaxHR   Oldpeak  \\\n",
       "0  0.591837       1.000000        0.0         0.0  0.267606  0.409091   \n",
       "1  0.306122       0.666667        0.0         0.0  0.422535  0.409091   \n",
       "2  0.244898       0.666667        1.0         0.0  0.647887  0.409091   \n",
       "3  0.306122       0.666667        0.0         1.0  0.422535  0.579545   \n",
       "4  0.612245       0.000000        1.0         0.0  0.352113  0.522727   \n",
       "\n",
       "   ST_Slope  RestingBP_Category  Cholesterol_Category  Sex_M  ExerciseAngina_Y  \n",
       "0       0.5            0.333333              0.000000    0.0               0.0  \n",
       "1       0.5            0.666667              0.333333    1.0               1.0  \n",
       "2       0.5            0.666667              0.000000    1.0               1.0  \n",
       "3       0.5            0.666667              0.333333    1.0               1.0  \n",
       "4       0.5            1.000000              0.000000    1.0               1.0  "
      ]
     },
     "metadata": {},
     "output_type": "display_data"
    }
   ],
   "source": [
    "\n",
    "from sklearn.preprocessing import MinMaxScaler\n",
    "scaler = MinMaxScaler()\n",
    "scaler.fit(X)\n",
    "X_train=scaler.fit_transform(X_train)\n",
    "X_test=scaler.transform(X_test)\n",
    "\n",
    "X_train = pd.DataFrame(X_train, columns=X.columns)\n",
    "X_test = pd.DataFrame(X_test, columns=X.columns)\n",
    "\n",
    "\n",
    "display(X_train.head())\n",
    "display(X_test.head())"
   ]
  },
  {
   "cell_type": "markdown",
   "id": "40249496",
   "metadata": {},
   "source": [
    "# Logistc Regression"
   ]
  },
  {
   "cell_type": "code",
   "execution_count": 107,
   "id": "034f2e1a",
   "metadata": {
    "execution": {
     "iopub.execute_input": "2022-10-01T14:08:27.465977Z",
     "iopub.status.busy": "2022-10-01T14:08:27.465529Z",
     "iopub.status.idle": "2022-10-01T14:08:27.565634Z",
     "shell.execute_reply": "2022-10-01T14:08:27.564552Z"
    },
    "papermill": {
     "duration": 0.212886,
     "end_time": "2022-10-01T14:08:27.569405",
     "exception": false,
     "start_time": "2022-10-01T14:08:27.356519",
     "status": "completed"
    },
    "tags": []
   },
   "outputs": [
    {
     "name": "stdout",
     "output_type": "stream",
     "text": [
      "Classification_Report: \n",
      "               precision    recall  f1-score   support\n",
      "\n",
      "           0       0.80      0.79      0.79        76\n",
      "           1       0.85      0.86      0.86       108\n",
      "\n",
      "    accuracy                           0.83       184\n",
      "   macro avg       0.83      0.83      0.83       184\n",
      "weighted avg       0.83      0.83      0.83       184\n",
      "\n"
     ]
    }
   ],
   "source": [
    "from sklearn.metrics import accuracy_score,confusion_matrix,classification_report,f1_score\n",
    "from sklearn.linear_model import LogisticRegression\n",
    "\n",
    "log_reg = LogisticRegression()\n",
    "log_reg.fit(X_train, y_train)\n",
    "y_pred_log = log_reg.predict(X_test)\n",
    "\n",
    "log_reg_train = round(log_reg.score(X_train, y_train) * 100, 2)\n",
    "log_reg_accuracy = round(accuracy_score(y_pred_log, y_test) * 100, 2)\n",
    "log_reg_f1 = round(f1_score(y_pred_log, y_test) * 100, 2)\n",
    "\n",
    "\n",
    "print(\"Classification_Report: \\n\",classification_report(y_test,y_pred_log))"
   ]
  },
  {
   "cell_type": "code",
   "execution_count": 108,
   "id": "b0dcdcdb",
   "metadata": {
    "execution": {
     "iopub.execute_input": "2022-10-01T14:08:28.707440Z",
     "iopub.status.busy": "2022-10-01T14:08:28.706824Z",
     "iopub.status.idle": "2022-10-01T14:08:29.145884Z",
     "shell.execute_reply": "2022-10-01T14:08:29.144955Z"
    },
    "papermill": {
     "duration": 0.553859,
     "end_time": "2022-10-01T14:08:29.148560",
     "exception": false,
     "start_time": "2022-10-01T14:08:28.594701",
     "status": "completed"
    },
    "tags": []
   },
   "outputs": [
    {
     "data": {
      "image/png": "[encoded data removed]",
      "text/plain": [
       "<Figure size 800x600 with 2 Axes>"
      ]
     },
     "metadata": {},
     "output_type": "display_data"
    }
   ],
   "source": [
    "cm = confusion_matrix(y_test, y_pred_log)\n",
    "plt.figure(figsize=(8, 6))\n",
    "sns.heatmap(cm, annot=True, fmt=\"d\", cmap='Blues')\n",
    "plt.title('Confusion Matrix')\n",
    "plt.ylabel('Actual Label')\n",
    "plt.xlabel('Predicted Label')\n",
    "\n",
    "plt.xticks([0.5, 1.5], ['Negative', 'Positive'])\n",
    "plt.yticks([0.5, 1.5], ['Negative', 'Positive'])\n",
    "plt.show()"
   ]
  },
  {
   "cell_type": "code",
   "execution_count": 109,
   "id": "73b6cbf4",
   "metadata": {
    "execution": {
     "iopub.execute_input": "2022-10-01T14:08:32.838439Z",
     "iopub.status.busy": "2022-10-01T14:08:32.838046Z",
     "iopub.status.idle": "2022-10-01T14:08:33.071980Z",
     "shell.execute_reply": "2022-10-01T14:08:33.070406Z"
    },
    "papermill": {
     "duration": 0.350293,
     "end_time": "2022-10-01T14:08:33.075711",
     "exception": false,
     "start_time": "2022-10-01T14:08:32.725418",
     "status": "completed"
    },
    "tags": []
   },
   "outputs": [
    {
     "name": "stdout",
     "output_type": "stream",
     "text": [
      "Model Accuracy Score: 84.85 %\n",
      "Std. Dev: 2.11 %\n"
     ]
    }
   ],
   "source": [
    "from sklearn.model_selection import cross_val_score\n",
    "val_score = cross_val_score(estimator=log_reg, X = X_train, y=y_train, cv=10)\n",
    "print(\"Model Accuracy Score: {:.2f} %\".format(val_score.mean()*100))\n",
    "print(\"Std. Dev: {:.2f} %\".format(val_score.std()*100))"
   ]
  },
  {
   "cell_type": "markdown",
   "id": "6014d118",
   "metadata": {},
   "source": [
    "# Support vector machine"
   ]
  },
  {
   "cell_type": "code",
   "execution_count": 110,
   "id": "5bcf01b1",
   "metadata": {
    "execution": {
     "iopub.execute_input": "2022-10-01T14:08:33.622900Z",
     "iopub.status.busy": "2022-10-01T14:08:33.622541Z",
     "iopub.status.idle": "2022-10-01T14:08:33.679123Z",
     "shell.execute_reply": "2022-10-01T14:08:33.677419Z"
    },
    "papermill": {
     "duration": 0.183218,
     "end_time": "2022-10-01T14:08:33.682605",
     "exception": false,
     "start_time": "2022-10-01T14:08:33.499387",
     "status": "completed"
    },
    "tags": []
   },
   "outputs": [
    {
     "name": "stdout",
     "output_type": "stream",
     "text": [
      "              precision    recall  f1-score   support\n",
      "\n",
      "           0       0.90      0.80      0.85        76\n",
      "           1       0.87      0.94      0.90       108\n",
      "\n",
      "    accuracy                           0.88       184\n",
      "   macro avg       0.88      0.87      0.87       184\n",
      "weighted avg       0.88      0.88      0.88       184\n",
      "\n"
     ]
    }
   ],
   "source": [
    "\n",
    "from sklearn.svm import SVC\n",
    "\n",
    "svm = SVC()\n",
    "svm.fit(X_train, y_train)\n",
    "y_pred_svm = svm.predict(X_test)\n",
    "\n",
    "svm_train = round(svm.score(X_train, y_train) * 100, 2)\n",
    "svm_accuracy = round(accuracy_score(y_pred_svm, y_test) * 100, 2)\n",
    "svm_f1 = round(f1_score(y_pred_svm, y_test) * 100, 2)\n",
    "\n",
    "\n",
    "print(classification_report(y_test,y_pred_svm))"
   ]
  },
  {
   "cell_type": "code",
   "execution_count": 111,
   "id": "ba519fff",
   "metadata": {
    "execution": {
     "iopub.execute_input": "2022-10-01T14:08:33.914043Z",
     "iopub.status.busy": "2022-10-01T14:08:33.913684Z",
     "iopub.status.idle": "2022-10-01T14:08:34.334919Z",
     "shell.execute_reply": "2022-10-01T14:08:34.333951Z"
    },
    "papermill": {
     "duration": 0.53686,
     "end_time": "2022-10-01T14:08:34.337305",
     "exception": false,
     "start_time": "2022-10-01T14:08:33.800445",
     "status": "completed"
    },
    "tags": []
   },
   "outputs": [
    {
     "data": {
      "image/png": "[encoded data removed]",
      "text/plain": [
       "<Figure size 800x600 with 2 Axes>"
      ]
     },
     "metadata": {},
     "output_type": "display_data"
    }
   ],
   "source": [
    "cm = confusion_matrix(y_test, y_pred_svm)\n",
    "plt.figure(figsize=(8, 6))\n",
    "sns.heatmap(cm, annot=True, fmt=\"d\", cmap='Blues')\n",
    "plt.title('Confusion Matrix')\n",
    "plt.ylabel('Actual Label')\n",
    "plt.xlabel('Predicted Label')\n",
    "\n",
    "plt.xticks([0.5, 1.5], ['Negative', 'Positive'])\n",
    "plt.yticks([0.5, 1.5], ['Negative', 'Positive'])\n",
    "plt.show()"
   ]
  },
  {
   "cell_type": "code",
   "execution_count": 112,
   "id": "f72764f6",
   "metadata": {
    "execution": {
     "iopub.execute_input": "2022-10-01T14:08:35.861773Z",
     "iopub.status.busy": "2022-10-01T14:08:35.861404Z",
     "iopub.status.idle": "2022-10-01T14:08:36.045587Z",
     "shell.execute_reply": "2022-10-01T14:08:36.044130Z"
    },
    "papermill": {
     "duration": 0.306325,
     "end_time": "2022-10-01T14:08:36.048234",
     "exception": false,
     "start_time": "2022-10-01T14:08:35.741909",
     "status": "completed"
    },
    "tags": []
   },
   "outputs": [
    {
     "name": "stdout",
     "output_type": "stream",
     "text": [
      "Model Accuracy Score: 84.71 %\n",
      "Std. Dev: 3.44 %\n"
     ]
    }
   ],
   "source": [
    "from sklearn.model_selection import cross_val_score\n",
    "\n",
    "val_score = cross_val_score(estimator=svm, X = X_train, y=y_train, cv=10)\n",
    "print(\"Model Accuracy Score: {:.2f} %\".format(val_score.mean()*100))\n",
    "print(\"Std. Dev: {:.2f} %\".format(val_score.std()*100))"
   ]
  },
  {
   "cell_type": "markdown",
   "id": "61880dfc",
   "metadata": {},
   "source": [
    "# Decision Tree"
   ]
  },
  {
   "cell_type": "code",
   "execution_count": 113,
   "id": "dcf57374",
   "metadata": {
    "execution": {
     "iopub.execute_input": "2022-10-01T14:08:52.824959Z",
     "iopub.status.busy": "2022-10-01T14:08:52.823982Z",
     "iopub.status.idle": "2022-10-01T14:08:52.864692Z",
     "shell.execute_reply": "2022-10-01T14:08:52.863355Z"
    },
    "papermill": {
     "duration": 0.1989,
     "end_time": "2022-10-01T14:08:52.867181",
     "exception": false,
     "start_time": "2022-10-01T14:08:52.668281",
     "status": "completed"
    },
    "tags": []
   },
   "outputs": [
    {
     "name": "stdout",
     "output_type": "stream",
     "text": [
      "              precision    recall  f1-score   support\n",
      "\n",
      "           0       0.75      0.74      0.74        76\n",
      "           1       0.82      0.82      0.82       108\n",
      "\n",
      "    accuracy                           0.79       184\n",
      "   macro avg       0.78      0.78      0.78       184\n",
      "weighted avg       0.79      0.79      0.79       184\n",
      "\n"
     ]
    }
   ],
   "source": [
    "\n",
    "from sklearn.tree import DecisionTreeClassifier\n",
    "\n",
    "decision_tree = DecisionTreeClassifier()\n",
    "decision_tree.fit(X_train, y_train)\n",
    "y_pred_Decision_tree = decision_tree.predict(X_test)\n",
    "\n",
    "decision_tree_train = round(decision_tree.score(X_train, y_train) * 100, 2)\n",
    "decision_tree_accuracy = round(accuracy_score(y_pred_Decision_tree, y_test) * 100, 2)\n",
    "decision_tree_f1 = round(f1_score(y_pred_Decision_tree, y_test) * 100, 2)\n",
    "\n",
    "\n",
    "print(classification_report(y_test,y_pred_Decision_tree))"
   ]
  },
  {
   "cell_type": "code",
   "execution_count": 114,
   "id": "7679b19c",
   "metadata": {
    "execution": {
     "iopub.execute_input": "2022-10-01T14:08:53.187459Z",
     "iopub.status.busy": "2022-10-01T14:08:53.187106Z",
     "iopub.status.idle": "2022-10-01T14:08:53.616776Z",
     "shell.execute_reply": "2022-10-01T14:08:53.615859Z"
    },
    "papermill": {
     "duration": 0.596642,
     "end_time": "2022-10-01T14:08:53.618982",
     "exception": false,
     "start_time": "2022-10-01T14:08:53.022340",
     "status": "completed"
    },
    "tags": []
   },
   "outputs": [
    {
     "data": {
      "image/png": "[encoded data removed]",
      "text/plain": [
       "<Figure size 800x600 with 2 Axes>"
      ]
     },
     "metadata": {},
     "output_type": "display_data"
    }
   ],
   "source": [
    "cm = confusion_matrix(y_test, y_pred_Decision_tree)\n",
    "plt.figure(figsize=(8, 6))\n",
    "sns.heatmap(cm, annot=True, fmt=\"d\", cmap='Blues')\n",
    "plt.title('Confusion Matrix')\n",
    "plt.ylabel('Actual Label')\n",
    "plt.xlabel('Predicted Label')\n",
    "\n",
    "plt.xticks([0.5, 1.5], ['Negative', 'Positive'])\n",
    "plt.yticks([0.5, 1.5], ['Negative', 'Positive'])\n",
    "plt.show()"
   ]
  },
  {
   "cell_type": "code",
   "execution_count": 115,
   "id": "83e0580e",
   "metadata": {
    "execution": {
     "iopub.execute_input": "2022-10-01T14:08:55.594213Z",
     "iopub.status.busy": "2022-10-01T14:08:55.593800Z",
     "iopub.status.idle": "2022-10-01T14:08:55.655132Z",
     "shell.execute_reply": "2022-10-01T14:08:55.653886Z"
    },
    "papermill": {
     "duration": 0.229758,
     "end_time": "2022-10-01T14:08:55.658263",
     "exception": false,
     "start_time": "2022-10-01T14:08:55.428505",
     "status": "completed"
    },
    "tags": []
   },
   "outputs": [
    {
     "name": "stdout",
     "output_type": "stream",
     "text": [
      "Model Accuracy Score: 79.79 %\n",
      "Std. Dev: 5.43 %\n"
     ]
    }
   ],
   "source": [
    "from sklearn.model_selection import cross_val_score\n",
    "\n",
    "val_score = cross_val_score(estimator=decision_tree, X = X_train, y=y_train, cv=10)\n",
    "print(\"Model Accuracy Score: {:.2f} %\".format(val_score.mean()*100))\n",
    "print(\"Std. Dev: {:.2f} %\".format(val_score.std()*100))"
   ]
  },
  {
   "cell_type": "markdown",
   "id": "c6967548",
   "metadata": {},
   "source": [
    "# Random Forest"
   ]
  },
  {
   "cell_type": "code",
   "execution_count": 116,
   "id": "549fb8e2",
   "metadata": {
    "execution": {
     "iopub.execute_input": "2022-10-01T14:08:56.300404Z",
     "iopub.status.busy": "2022-10-01T14:08:56.299567Z",
     "iopub.status.idle": "2022-10-01T14:08:56.569332Z",
     "shell.execute_reply": "2022-10-01T14:08:56.568325Z"
    },
    "papermill": {
     "duration": 0.433208,
     "end_time": "2022-10-01T14:08:56.571558",
     "exception": false,
     "start_time": "2022-10-01T14:08:56.138350",
     "status": "completed"
    },
    "tags": []
   },
   "outputs": [
    {
     "name": "stdout",
     "output_type": "stream",
     "text": [
      "              precision    recall  f1-score   support\n",
      "\n",
      "           0       0.79      0.79      0.79        76\n",
      "           1       0.85      0.85      0.85       108\n",
      "\n",
      "    accuracy                           0.83       184\n",
      "   macro avg       0.82      0.82      0.82       184\n",
      "weighted avg       0.83      0.83      0.83       184\n",
      "\n"
     ]
    }
   ],
   "source": [
    "from sklearn.ensemble import RandomForestClassifier\n",
    "\n",
    "random_forest_clf = RandomForestClassifier(n_estimators=100)\n",
    "random_forest_clf.fit(X_train, y_train)\n",
    "y_pred_random_forest_clf = random_forest_clf.predict(X_test)\n",
    "random_forest_clf.score(X_train, y_train)\n",
    "\n",
    "random_forest_clf_train = round(random_forest_clf.score(X_train, y_train) * 100, 2)\n",
    "random_forest_clf_accuracy = round(accuracy_score(y_pred_random_forest_clf, y_test) * 100, 2)\n",
    "random_forest_clf_f1 = round(f1_score(y_pred_random_forest_clf, y_test) * 100, 2)\n",
    "\n",
    "\n",
    "print(classification_report(y_test,y_pred_random_forest_clf))"
   ]
  },
  {
   "cell_type": "code",
   "execution_count": 117,
   "id": "f80686fd",
   "metadata": {
    "execution": {
     "iopub.execute_input": "2022-10-01T14:08:56.900574Z",
     "iopub.status.busy": "2022-10-01T14:08:56.898663Z",
     "iopub.status.idle": "2022-10-01T14:08:57.349875Z",
     "shell.execute_reply": "2022-10-01T14:08:57.348945Z"
    },
    "papermill": {
     "duration": 0.617554,
     "end_time": "2022-10-01T14:08:57.352542",
     "exception": false,
     "start_time": "2022-10-01T14:08:56.734988",
     "status": "completed"
    },
    "tags": []
   },
   "outputs": [
    {
     "data": {
      "image/png": "[encoded data removed]",
      "text/plain": [
       "<Figure size 800x600 with 2 Axes>"
      ]
     },
     "metadata": {},
     "output_type": "display_data"
    }
   ],
   "source": [
    "cm = confusion_matrix(y_test, y_pred_random_forest_clf)\n",
    "plt.figure(figsize=(8, 6))\n",
    "sns.heatmap(cm, annot=True, fmt=\"d\", cmap='Blues')\n",
    "plt.title('Confusion Matrix')\n",
    "plt.ylabel('Actual Label')\n",
    "plt.xlabel('Predicted Label')\n",
    "\n",
    "plt.xticks([0.5, 1.5], ['Negative', 'Positive'])\n",
    "plt.yticks([0.5, 1.5], ['Negative', 'Positive'])\n",
    "plt.show()"
   ]
  },
  {
   "cell_type": "code",
   "execution_count": 118,
   "id": "cdb8cd24",
   "metadata": {
    "execution": {
     "iopub.execute_input": "2022-10-01T14:08:59.177999Z",
     "iopub.status.busy": "2022-10-01T14:08:59.177055Z",
     "iopub.status.idle": "2022-10-01T14:09:00.833886Z",
     "shell.execute_reply": "2022-10-01T14:09:00.831592Z"
    },
    "papermill": {
     "duration": 1.838392,
     "end_time": "2022-10-01T14:09:00.836831",
     "exception": false,
     "start_time": "2022-10-01T14:08:58.998439",
     "status": "completed"
    },
    "tags": []
   },
   "outputs": [
    {
     "name": "stdout",
     "output_type": "stream",
     "text": [
      "Model Accuracy Score: 85.53 %\n",
      "Std. Dev: 3.05 %\n"
     ]
    }
   ],
   "source": [
    "from sklearn.model_selection import cross_val_score\n",
    "\n",
    "val_score = cross_val_score(estimator=random_forest_clf, X = X_train, y=y_train, cv=10)\n",
    "print(\"Model Accuracy Score: {:.2f} %\".format(val_score.mean()*100))\n",
    "print(\"Std. Dev: {:.2f} %\".format(val_score.std()*100))"
   ]
  },
  {
   "cell_type": "code",
   "execution_count": 119,
   "id": "8d878e5c",
   "metadata": {
    "execution": {
     "iopub.execute_input": "2022-10-01T14:10:40.764848Z",
     "iopub.status.busy": "2022-10-01T14:10:40.764479Z",
     "iopub.status.idle": "2022-10-01T14:10:40.772418Z",
     "shell.execute_reply": "2022-10-01T14:10:40.771340Z"
    },
    "papermill": {
     "duration": 0.203865,
     "end_time": "2022-10-01T14:10:40.774544",
     "exception": false,
     "start_time": "2022-10-01T14:10:40.570679",
     "status": "completed"
    },
    "tags": []
   },
   "outputs": [],
   "source": [
    "models = pd.DataFrame({\n",
    "    'Model': [\n",
    "        'Logistic Regression','Support Vector Machines',\n",
    "        'Decision Tree','Random Forest'\n",
    "    ],\n",
    "    'Training Accuracy': [\n",
    "        log_reg_train, svm_train,\n",
    "        decision_tree_train, random_forest_clf_train\n",
    "    ],\n",
    "    'Model f1 Score': [\n",
    "        log_reg_f1, svm_f1,decision_tree_f1, random_forest_clf_f1\n",
    "    ],\n",
    "    'Model Accuracy Score': [\n",
    "        log_reg_accuracy, svm_accuracy, decision_tree_accuracy, random_forest_clf_accuracy\n",
    "    ]\n",
    "    \n",
    "})"
   ]
  },
  {
   "cell_type": "code",
   "execution_count": 120,
   "id": "592c3e95",
   "metadata": {
    "execution": {
     "iopub.execute_input": "2022-10-01T14:10:41.161829Z",
     "iopub.status.busy": "2022-10-01T14:10:41.160930Z",
     "iopub.status.idle": "2022-10-01T14:10:41.185058Z",
     "shell.execute_reply": "2022-10-01T14:10:41.184118Z"
    },
    "papermill": {
     "duration": 0.222418,
     "end_time": "2022-10-01T14:10:41.187287",
     "exception": false,
     "start_time": "2022-10-01T14:10:40.964869",
     "status": "completed"
    },
    "tags": []
   },
   "outputs": [
    {
     "data": {
      "text/html": [
       "<div>\n",
       "<style scoped>\n",
       "    .dataframe tbody tr th:only-of-type {\n",
       "        vertical-align: middle;\n",
       "    }\n",
       "\n",
       "    .dataframe tbody tr th {\n",
       "        vertical-align: top;\n",
       "    }\n",
       "\n",
       "    .dataframe thead th {\n",
       "        text-align: right;\n",
       "    }\n",
       "</style>\n",
       "<table border=\"1\" class=\"dataframe\">\n",
       "  <thead>\n",
       "    <tr style=\"text-align: right;\">\n",
       "      <th></th>\n",
       "      <th>Model</th>\n",
       "      <th>Training Accuracy</th>\n",
       "      <th>Model f1 Score</th>\n",
       "      <th>Model Accuracy Score</th>\n",
       "    </tr>\n",
       "  </thead>\n",
       "  <tbody>\n",
       "    <tr>\n",
       "      <th>1</th>\n",
       "      <td>Support Vector Machines</td>\n",
       "      <td>87.04</td>\n",
       "      <td>90.18</td>\n",
       "      <td>88.04</td>\n",
       "    </tr>\n",
       "    <tr>\n",
       "      <th>0</th>\n",
       "      <td>Logistic Regression</td>\n",
       "      <td>85.13</td>\n",
       "      <td>85.71</td>\n",
       "      <td>83.15</td>\n",
       "    </tr>\n",
       "    <tr>\n",
       "      <th>3</th>\n",
       "      <td>Random Forest</td>\n",
       "      <td>100.00</td>\n",
       "      <td>85.19</td>\n",
       "      <td>82.61</td>\n",
       "    </tr>\n",
       "    <tr>\n",
       "      <th>2</th>\n",
       "      <td>Decision Tree</td>\n",
       "      <td>100.00</td>\n",
       "      <td>82.03</td>\n",
       "      <td>78.80</td>\n",
       "    </tr>\n",
       "  </tbody>\n",
       "</table>\n",
       "</div>"
      ],
      "text/plain": [
       "                     Model  Training Accuracy  Model f1 Score  \\\n",
       "1  Support Vector Machines              87.04           90.18   \n",
       "0      Logistic Regression              85.13           85.71   \n",
       "3            Random Forest             100.00           85.19   \n",
       "2            Decision Tree             100.00           82.03   \n",
       "\n",
       "   Model Accuracy Score  \n",
       "1                 88.04  \n",
       "0                 83.15  \n",
       "3                 82.61  \n",
       "2                 78.80  "
      ]
     },
     "execution_count": 120,
     "metadata": {},
     "output_type": "execute_result"
    }
   ],
   "source": [
    "models = models.sort_values(by='Model Accuracy Score', ascending=False)\n",
    "models"
   ]
  },
  {
   "cell_type": "code",
   "execution_count": 122,
   "id": "89fb62a0",
   "metadata": {
    "execution": {
     "iopub.execute_input": "2022-10-01T14:10:41.574824Z",
     "iopub.status.busy": "2022-10-01T14:10:41.573668Z",
     "iopub.status.idle": "2022-10-01T14:10:42.215386Z",
     "shell.execute_reply": "2022-10-01T14:10:42.214489Z"
    },
    "papermill": {
     "duration": 0.839014,
     "end_time": "2022-10-01T14:10:42.219664",
     "exception": false,
     "start_time": "2022-10-01T14:10:41.380650",
     "status": "completed"
    },
    "tags": []
   },
   "outputs": [
    {
     "data": {
      "image/png": "[encoded data removed]",
      "text/plain": [
       "<Figure size 1000x600 with 1 Axes>"
      ]
     },
     "metadata": {},
     "output_type": "display_data"
    }
   ],
   "source": [
    "plt.figure(figsize=(10, 6))\n",
    "plt.rcParams.update({'font.size': 10})\n",
    "plt.bar(models['Model'], models['Model Accuracy Score'], color='skyblue')\n",
    "plt.xlabel('Model Name')\n",
    "plt.ylabel('Model Accuracy Score (%)')\n",
    "plt.title('Model Accuracy Scores')\n",
    "plt.show()"
   ]
  },
  {
   "cell_type": "code",
   "execution_count": 123,
   "id": "5e2ae51e",
   "metadata": {
    "execution": {
     "iopub.execute_input": "2022-10-01T14:10:42.620371Z",
     "iopub.status.busy": "2022-10-01T14:10:42.619999Z",
     "iopub.status.idle": "2022-10-01T14:10:42.643887Z",
     "shell.execute_reply": "2022-10-01T14:10:42.642085Z"
    },
    "papermill": {
     "duration": 0.227488,
     "end_time": "2022-10-01T14:10:42.647202",
     "exception": false,
     "start_time": "2022-10-01T14:10:42.419714",
     "status": "completed"
    },
    "tags": []
   },
   "outputs": [
    {
     "name": "stdout",
     "output_type": "stream",
     "text": [
      "[1 1 1 1 1 1 0 0 0 0 0 0 0 0 1 0 1 1 1 0 0 0 1 1 0 1 1 0 0 0 1 0 0 0 1 0 1\n",
      " 1 1 1 1 1 1 1 1 1 1 1 0 1 1 0 1 1 1 1 1 0 1 1 1 1 0 1 0 0 0 0 1 0 1 1 1 0\n",
      " 0 1 1 1 1 0 1 0 0 1 1 1 1 0 1 1 1 0 1 0 1 1 1 0 1 1 0 0 0 1 1 1 1 0 0 0 0\n",
      " 1 0 1 1 0 0 1 1 1 1 0 0 1 1 0 1 1 1 1 0 1 0 1 0 1 1 0 0 1 1 0 1 0 1 1 0 0\n",
      " 1 1 1 1 1 1 0 0 1 1 0 1 1 0 1 1 1 0 1 1 0 1 1 1 1 0 1 1 1 1 1 1 1 1 1 0]\n"
     ]
    }
   ],
   "source": [
    "Prediction_of_the_model = svm.predict(X_test)\n",
    "print(Prediction_of_the_model)"
   ]
  },
  {
   "cell_type": "code",
   "execution_count": 124,
   "id": "6d3dfe9e",
   "metadata": {
    "execution": {
     "iopub.execute_input": "2022-10-01T14:10:43.049968Z",
     "iopub.status.busy": "2022-10-01T14:10:43.049562Z",
     "iopub.status.idle": "2022-10-01T14:10:43.078584Z",
     "shell.execute_reply": "2022-10-01T14:10:43.077496Z"
    },
    "papermill": {
     "duration": 0.235995,
     "end_time": "2022-10-01T14:10:43.080913",
     "exception": false,
     "start_time": "2022-10-01T14:10:42.844918",
     "status": "completed"
    },
    "tags": []
   },
   "outputs": [
    {
     "data": {
      "text/html": [
       "<div>\n",
       "<style scoped>\n",
       "    .dataframe tbody tr th:only-of-type {\n",
       "        vertical-align: middle;\n",
       "    }\n",
       "\n",
       "    .dataframe tbody tr th {\n",
       "        vertical-align: top;\n",
       "    }\n",
       "\n",
       "    .dataframe thead th {\n",
       "        text-align: right;\n",
       "    }\n",
       "</style>\n",
       "<table border=\"1\" class=\"dataframe\">\n",
       "  <thead>\n",
       "    <tr style=\"text-align: right;\">\n",
       "      <th></th>\n",
       "      <th>Actual</th>\n",
       "      <th>Predicted</th>\n",
       "    </tr>\n",
       "  </thead>\n",
       "  <tbody>\n",
       "    <tr>\n",
       "      <th>852</th>\n",
       "      <td>1</td>\n",
       "      <td>1</td>\n",
       "    </tr>\n",
       "    <tr>\n",
       "      <th>553</th>\n",
       "      <td>1</td>\n",
       "      <td>1</td>\n",
       "    </tr>\n",
       "    <tr>\n",
       "      <th>396</th>\n",
       "      <td>1</td>\n",
       "      <td>1</td>\n",
       "    </tr>\n",
       "    <tr>\n",
       "      <th>658</th>\n",
       "      <td>0</td>\n",
       "      <td>0</td>\n",
       "    </tr>\n",
       "    <tr>\n",
       "      <th>224</th>\n",
       "      <td>0</td>\n",
       "      <td>0</td>\n",
       "    </tr>\n",
       "    <tr>\n",
       "      <th>77</th>\n",
       "      <td>0</td>\n",
       "      <td>0</td>\n",
       "    </tr>\n",
       "    <tr>\n",
       "      <th>313</th>\n",
       "      <td>1</td>\n",
       "      <td>1</td>\n",
       "    </tr>\n",
       "    <tr>\n",
       "      <th>441</th>\n",
       "      <td>1</td>\n",
       "      <td>1</td>\n",
       "    </tr>\n",
       "    <tr>\n",
       "      <th>779</th>\n",
       "      <td>0</td>\n",
       "      <td>0</td>\n",
       "    </tr>\n",
       "    <tr>\n",
       "      <th>606</th>\n",
       "      <td>1</td>\n",
       "      <td>1</td>\n",
       "    </tr>\n",
       "    <tr>\n",
       "      <th>213</th>\n",
       "      <td>0</td>\n",
       "      <td>0</td>\n",
       "    </tr>\n",
       "    <tr>\n",
       "      <th>500</th>\n",
       "      <td>1</td>\n",
       "      <td>1</td>\n",
       "    </tr>\n",
       "    <tr>\n",
       "      <th>70</th>\n",
       "      <td>1</td>\n",
       "      <td>1</td>\n",
       "    </tr>\n",
       "    <tr>\n",
       "      <th>507</th>\n",
       "      <td>0</td>\n",
       "      <td>1</td>\n",
       "    </tr>\n",
       "    <tr>\n",
       "      <th>533</th>\n",
       "      <td>1</td>\n",
       "      <td>1</td>\n",
       "    </tr>\n",
       "  </tbody>\n",
       "</table>\n",
       "</div>"
      ],
      "text/plain": [
       "     Actual  Predicted\n",
       "852       1          1\n",
       "553       1          1\n",
       "396       1          1\n",
       "658       0          0\n",
       "224       0          0\n",
       "77        0          0\n",
       "313       1          1\n",
       "441       1          1\n",
       "779       0          0\n",
       "606       1          1\n",
       "213       0          0\n",
       "500       1          1\n",
       "70        1          1\n",
       "507       0          1\n",
       "533       1          1"
      ]
     },
     "execution_count": 124,
     "metadata": {},
     "output_type": "execute_result"
    }
   ],
   "source": [
    "cross_val = pd.DataFrame({'Actual' : y_test , 'Predicted' : Prediction_of_the_model})\n",
    "sam=cross_val.sample(15)\n",
    "sam\n"
   ]
  },
  {
   "cell_type": "code",
   "execution_count": 125,
   "id": "d565c120",
   "metadata": {},
   "outputs": [
    {
     "data": {
      "image/png": "[encoded data removed]",
      "text/plain": [
       "<Figure size 1000x600 with 1 Axes>"
      ]
     },
     "metadata": {},
     "output_type": "display_data"
    }
   ],
   "source": [
    "\n",
    "# Plotting the actual vs predicted values\n",
    "plt.figure(figsize=(10, 6))\n",
    "plt.plot(sam['Actual'], label='Actual', marker='o')\n",
    "plt.plot(sam['Predicted'], label='Predicted', marker='x')\n",
    "plt.title('Actual vs Predicted')\n",
    "plt.xlabel('Sample Index')\n",
    "plt.ylabel('Value')\n",
    "plt.legend()\n",
    "plt.grid(True)\n",
    "plt.show()"
   ]
  },
  {
   "cell_type": "code",
   "execution_count": null,
   "id": "208b9846",
   "metadata": {},
   "outputs": [],
   "source": []
  }
 ],
 "metadata": {
  "kernelspec": {
   "display_name": "Python 3 (ipykernel)",
   "language": "python",
   "name": "python3"
  },
  "language_info": {
   "codemirror_mode": {
    "name": "ipython",
    "version": 3
   },
   "file_extension": ".py",
   "mimetype": "text/x-python",
   "name": "python",
   "nbconvert_exporter": "python",
   "pygments_lexer": "ipython3",
   "version": "3.11.5"
  },
  "papermill": {
   "default_parameters": {},
   "duration": 175.04792,
   "end_time": "2022-10-01T14:10:44.707862",
   "environment_variables": {},
   "exception": null,
   "input_path": "__notebook__.ipynb",
   "output_path": "__notebook__.ipynb",
   "parameters": {},
   "start_time": "2022-10-01T14:07:49.659942",
   "version": "2.3.4"
  }
 },
 "nbformat": 4,
 "nbformat_minor": 5
}
